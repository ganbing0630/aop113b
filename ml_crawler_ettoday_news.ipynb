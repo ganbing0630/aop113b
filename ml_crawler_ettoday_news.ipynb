{
  "nbformat": 4,
  "nbformat_minor": 0,
  "metadata": {
    "colab": {
      "provenance": [],
      "authorship_tag": "ABX9TyO+43EOjcOvTACxXJnTh6pq",
      "include_colab_link": true
    },
    "kernelspec": {
      "name": "python3",
      "display_name": "Python 3"
    },
    "language_info": {
      "name": "python"
    }
  },
  "cells": [
    {
      "cell_type": "markdown",
      "metadata": {
        "id": "view-in-github",
        "colab_type": "text"
      },
      "source": [
        "<a href=\"https://colab.research.google.com/github/imchihchao/aop113b/blob/main/ml_crawler_ettoday_news.ipynb\" target=\"_parent\"><img src=\"https://colab.research.google.com/assets/colab-badge.svg\" alt=\"Open In Colab\"/></a>"
      ]
    },
    {
      "cell_type": "code",
      "execution_count": null,
      "metadata": {
        "id": "Xtt6fxXmEUUs"
      },
      "outputs": [],
      "source": [
        "import requests\n",
        "from bs4 import BeautifulSoup\n",
        "import pandas as pd\n",
        "\n",
        "# https://www.ettoday.net/news/news-list-2025-05-08-5.htm\n",
        "\n",
        "# 設定爬取類別\n",
        "category_mapping = {\n",
        "    1: \"政治\",\n",
        "    17: \"財經\",\n",
        "    2: \"國際\",\n",
        "    6: \"社會\",\n",
        "    9: \"影劇\",\n",
        "    10: \"體育\",\n",
        "    20: \"3c\",\n",
        "    30: \"時尚\",\n",
        "    24: \"遊戲\",\n",
        "    5: \"生活\"\n",
        "}\n",
        " # 設定爬取日期範圍\n",
        "date_range = pd.date_range(start='2024-05-01', end='2025-05-10')\n",
        "date_list = date_range.strftime('%Y-%m-%d').to_list()\n",
        "\n",
        "# 爬取指定日期及類別的新聞\n",
        "def get_title(date, category):\n",
        "    url = f\"https://www.ettoday.net/news/news-list-{date}-{category}.htm\"\n",
        "    resp = requests.get(url)\n",
        "    soup = BeautifulSoup(resp.content, \"lxml\")\n",
        "    soup = soup.find(\"div\", class_=\"part_list_2\")\n",
        "    domian = \"https://www.ettoday.net\"\n",
        "    for a in soup.find_all(\"h3\"):\n",
        "        p = a.a.string\n",
        "        if p != None:\n",
        "            cate.append(category_mapping[category])\n",
        "            p = p.split('／')\n",
        "            if len(p) > 1:\n",
        "                ttle.append(p[1])\n",
        "            else:\n",
        "                ttle.append(p[0])\n",
        "\n",
        "cate = []\n",
        "ttle = []\n",
        "\n",
        "for cm in category_mapping.keys():\n",
        "    for date in date_list:\n",
        "        get_title(date, cm)\n",
        "\n",
        "# 輸出成 CSV 檔\n",
        "df = pd.DataFrame({'類別': cate, '標題': ttle})\n",
        "df.to_csv('ettoday_news.csv', index=False, encoding='utf-8-sig')"
      ]
    }
  ]
}