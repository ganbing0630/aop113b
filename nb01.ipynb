{
  "nbformat": 4,
  "nbformat_minor": 0,
  "metadata": {
    "colab": {
      "provenance": [],
      "mount_file_id": "1zZj_Da02T996-phS96pJLVEE7sUsBmbu",
      "authorship_tag": "ABX9TyM8HaAamzq0zZoXdwKsvuKx",
      "include_colab_link": true
    },
    "kernelspec": {
      "name": "python3",
      "display_name": "Python 3"
    },
    "language_info": {
      "name": "python"
    }
  },
  "cells": [
    {
      "cell_type": "markdown",
      "metadata": {
        "id": "view-in-github",
        "colab_type": "text"
      },
      "source": [
        "<a href=\"https://colab.research.google.com/github/imchihchao/aop113b/blob/main/nb01.ipynb\" target=\"_parent\"><img src=\"https://colab.research.google.com/assets/colab-badge.svg\" alt=\"Open In Colab\"/></a>"
      ]
    },
    {
      "cell_type": "markdown",
      "source": [
        "## Basic"
      ],
      "metadata": {
        "id": "4QTot9dK-y8V"
      }
    },
    {
      "cell_type": "code",
      "execution_count": null,
      "metadata": {
        "id": "fF2ci8O1-oTT"
      },
      "outputs": [],
      "source": [
        "# 註解\n",
        "'''\n",
        "多行註解\n",
        "1\n",
        "2\n",
        "'''"
      ]
    },
    {
      "cell_type": "code",
      "source": [
        "# 資料型態\n",
        "'1'+'1'\n",
        "1+1"
      ],
      "metadata": {
        "colab": {
          "base_uri": "https://localhost:8080/"
        },
        "id": "mlBr4YjT_a81",
        "outputId": "a5ed52b2-63eb-42fd-bad2-e718e9285dbe"
      },
      "execution_count": null,
      "outputs": [
        {
          "output_type": "execute_result",
          "data": {
            "text/plain": [
              "2"
            ]
          },
          "metadata": {},
          "execution_count": 4
        }
      ]
    },
    {
      "cell_type": "code",
      "source": [
        "type('tes')"
      ],
      "metadata": {
        "colab": {
          "base_uri": "https://localhost:8080/"
        },
        "id": "CKjnlcFP_xC2",
        "outputId": "fc68bfaa-f3fd-42fd-fd02-2b9b52d63cec"
      },
      "execution_count": null,
      "outputs": [
        {
          "output_type": "execute_result",
          "data": {
            "text/plain": [
              "str"
            ]
          },
          "metadata": {},
          "execution_count": 5
        }
      ]
    },
    {
      "cell_type": "code",
      "source": [
        "# 資料輸出與格式化\n",
        "print('Hello', 'world', sep='---', end='\\n')\n"
      ],
      "metadata": {
        "colab": {
          "base_uri": "https://localhost:8080/"
        },
        "id": "k-NhG-ejAE2G",
        "outputId": "bc0e18fd-6baa-4a9f-c63c-dcda00f2b558"
      },
      "execution_count": null,
      "outputs": [
        {
          "output_type": "stream",
          "name": "stdout",
          "text": [
            "Hello---world\n"
          ]
        }
      ]
    },
    {
      "cell_type": "code",
      "source": [
        "'\\''"
      ],
      "metadata": {
        "colab": {
          "base_uri": "https://localhost:8080/",
          "height": 35
        },
        "id": "wHPkPj2BA5rR",
        "outputId": "02ee3679-91dd-43db-a089-67f749fd231c"
      },
      "execution_count": null,
      "outputs": [
        {
          "output_type": "execute_result",
          "data": {
            "text/plain": [
              "\"'\""
            ],
            "application/vnd.google.colaboratory.intrinsic+json": {
              "type": "string"
            }
          },
          "metadata": {},
          "execution_count": 8
        }
      ]
    },
    {
      "cell_type": "code",
      "source": [
        "# 問候\n",
        "name = input('請輸入您的姓名：')\n",
        "print('您好！', name)"
      ],
      "metadata": {
        "colab": {
          "base_uri": "https://localhost:8080/"
        },
        "id": "jkJ9fB0RBGLY",
        "outputId": "40c21265-e22e-455d-afb2-62b5e85cfc21"
      },
      "execution_count": null,
      "outputs": [
        {
          "output_type": "stream",
          "name": "stdout",
          "text": [
            "請輸入您的姓名：123\n",
            "您好！ 123\n"
          ]
        }
      ]
    },
    {
      "cell_type": "markdown",
      "source": [
        "## Expression"
      ],
      "metadata": {
        "id": "r1xBQXwKFXmj"
      }
    },
    {
      "cell_type": "code",
      "source": [
        "import keyword\n",
        "print(keyword.kwlist)"
      ],
      "metadata": {
        "colab": {
          "base_uri": "https://localhost:8080/"
        },
        "id": "3LdE4ziJFc-s",
        "outputId": "9fd919a6-958c-4c3d-f10e-0ee652b24f1f"
      },
      "execution_count": null,
      "outputs": [
        {
          "output_type": "stream",
          "name": "stdout",
          "text": [
            "['False', 'None', 'True', 'and', 'as', 'assert', 'async', 'await', 'break', 'class', 'continue', 'def', 'del', 'elif', 'else', 'except', 'finally', 'for', 'from', 'global', 'if', 'import', 'in', 'is', 'lambda', 'nonlocal', 'not', 'or', 'pass', 'raise', 'return', 'try', 'while', 'with', 'yield']\n"
          ]
        }
      ]
    },
    {
      "cell_type": "code",
      "source": [
        "'123' * 5"
      ],
      "metadata": {
        "colab": {
          "base_uri": "https://localhost:8080/",
          "height": 35
        },
        "id": "cZQ5LY2XI3IK",
        "outputId": "343f95f7-be42-45dd-dcfa-abc3defbb885"
      },
      "execution_count": null,
      "outputs": [
        {
          "output_type": "execute_result",
          "data": {
            "text/plain": [
              "'123123123123123'"
            ],
            "application/vnd.google.colaboratory.intrinsic+json": {
              "type": "string"
            }
          },
          "metadata": {},
          "execution_count": 11
        }
      ]
    },
    {
      "cell_type": "markdown",
      "source": [
        "## Control Flow"
      ],
      "metadata": {
        "id": "FQ3ne0ezNKFE"
      }
    },
    {
      "cell_type": "markdown",
      "source": [
        "### 條件判斷"
      ],
      "metadata": {
        "id": "3m4fnTblsTOl"
      }
    },
    {
      "cell_type": "code",
      "source": [
        "# ⾼鐵兒童免費\n",
        "cost = 1490\n",
        "age = int(input('年紀:'))\n",
        "if age <= 6:\n",
        "    cost = 0\n",
        "print('⾞票費⽤', cost)"
      ],
      "metadata": {
        "colab": {
          "base_uri": "https://localhost:8080/"
        },
        "id": "2MH32B11NL0E",
        "outputId": "eebe4dd7-5c25-4047-a041-f44960444dcc"
      },
      "execution_count": null,
      "outputs": [
        {
          "output_type": "stream",
          "name": "stdout",
          "text": [
            "年紀:3\n",
            "⾞票費⽤ 0\n"
          ]
        }
      ]
    },
    {
      "cell_type": "code",
      "source": [
        "# 輸入分數後，判斷分數是否及格。\n",
        "s = int(input())\n",
        "if s < 60:\n",
        "    print('不及格')\n",
        "else:\n",
        "    print('及格')"
      ],
      "metadata": {
        "colab": {
          "base_uri": "https://localhost:8080/"
        },
        "id": "Ix5uqrY5O75W",
        "outputId": "0c416288-be8d-4867-d5b1-8808bbeeee8d"
      },
      "execution_count": null,
      "outputs": [
        {
          "output_type": "stream",
          "name": "stdout",
          "text": [
            "80\n",
            "及格\n"
          ]
        }
      ]
    },
    {
      "cell_type": "markdown",
      "source": [
        "### 迴圈"
      ],
      "metadata": {
        "id": "p9bpkHxisXiW"
      }
    },
    {
      "cell_type": "code",
      "source": [
        "for i in range(0,10,1):\n",
        "    print(i)"
      ],
      "metadata": {
        "colab": {
          "base_uri": "https://localhost:8080/"
        },
        "id": "Tq9sOPpryofs",
        "outputId": "4127b2a8-d159-49a6-eb1f-f1f125147246"
      },
      "execution_count": null,
      "outputs": [
        {
          "output_type": "stream",
          "name": "stdout",
          "text": [
            "0\n",
            "1\n",
            "2\n",
            "3\n",
            "4\n",
            "5\n",
            "6\n",
            "7\n",
            "8\n",
            "9\n"
          ]
        }
      ]
    },
    {
      "cell_type": "code",
      "source": [
        "lst = [2,5,6,7]\n",
        "for i in lst:\n",
        "    print(i)"
      ],
      "metadata": {
        "colab": {
          "base_uri": "https://localhost:8080/"
        },
        "id": "ryEbvWDFzXX5",
        "outputId": "2df21a31-9a9a-4673-81e4-493e81e07046"
      },
      "execution_count": null,
      "outputs": [
        {
          "output_type": "stream",
          "name": "stdout",
          "text": [
            "2\n",
            "5\n",
            "6\n",
            "7\n"
          ]
        }
      ]
    },
    {
      "cell_type": "code",
      "source": [
        "# 等差級數和\n",
        "sum = 0\n",
        "for i in range(101):\n",
        "    sum += i\n",
        "print(sum)"
      ],
      "metadata": {
        "colab": {
          "base_uri": "https://localhost:8080/"
        },
        "id": "p8v3j406zq5E",
        "outputId": "e91c5097-5907-4707-ba18-5c01a2ebe4dd"
      },
      "execution_count": null,
      "outputs": [
        {
          "output_type": "stream",
          "name": "stdout",
          "text": [
            "5050\n"
          ]
        }
      ]
    },
    {
      "cell_type": "code",
      "source": [
        "# 輸入正確的密碼才能通過\n",
        "password = 'Life finds a way.'\n",
        "while input('Password:') != password:\n",
        "    print('Password incorrect!')\n",
        "print('Pass')"
      ],
      "metadata": {
        "colab": {
          "base_uri": "https://localhost:8080/"
        },
        "id": "NQmJRivo0YGp",
        "outputId": "37d7cce2-f9aa-4a3f-d0b0-26e27db02235"
      },
      "execution_count": null,
      "outputs": [
        {
          "output_type": "stream",
          "name": "stdout",
          "text": [
            "Password:2354\n",
            "Password incorrect!\n",
            "Password:8755\n",
            "Password incorrect!\n",
            "Password:bfjhyuo\n",
            "Password incorrect!\n",
            "Password:io798798\n",
            "Password incorrect!\n",
            "Password:Life finds a way.\n",
            "Pass\n"
          ]
        }
      ]
    },
    {
      "cell_type": "markdown",
      "source": [
        "### 例外處理"
      ],
      "metadata": {
        "id": "HR_98V7cshon"
      }
    },
    {
      "cell_type": "code",
      "source": [
        "# 取餘數\n",
        "try:\n",
        "    n = int(input())\n",
        "    m = int(input())\n",
        "    r = n % m\n",
        "except:\n",
        "    print(\"Something wrong!\")\n",
        "else:\n",
        "    print(r)\n",
        "finally:\n",
        "    print(\"Bye!\")"
      ],
      "metadata": {
        "colab": {
          "base_uri": "https://localhost:8080/"
        },
        "id": "2AJtBEJJ1-7U",
        "outputId": "139db70f-a228-4574-d0d5-f96236f0855d"
      },
      "execution_count": null,
      "outputs": [
        {
          "output_type": "stream",
          "name": "stdout",
          "text": [
            "p\n",
            "Something wrong!\n",
            "Bye!\n"
          ]
        }
      ]
    },
    {
      "cell_type": "markdown",
      "source": [
        "## String"
      ],
      "metadata": {
        "id": "B5W1NH84AAoC"
      }
    },
    {
      "cell_type": "code",
      "source": [
        "print(\"Hello, %s. %010d\" % (\"World\", 520))"
      ],
      "metadata": {
        "colab": {
          "base_uri": "https://localhost:8080/"
        },
        "id": "ngUG_szX3Fny",
        "outputId": "90d4ab8b-56d3-4549-d3ea-c5cda886c59c"
      },
      "execution_count": null,
      "outputs": [
        {
          "output_type": "stream",
          "name": "stdout",
          "text": [
            "Hello, World. 0000000520\n"
          ]
        }
      ]
    },
    {
      "cell_type": "code",
      "source": [
        "name = \"Alice\"\n",
        "age = 25\n",
        "print(\"My name is {} and I am {} years old.\".format(name, age))"
      ],
      "metadata": {
        "colab": {
          "base_uri": "https://localhost:8080/"
        },
        "id": "HlFhZ__gArd-",
        "outputId": "f1468b74-697c-49fb-e852-56720ac9b302"
      },
      "execution_count": null,
      "outputs": [
        {
          "output_type": "stream",
          "name": "stdout",
          "text": [
            "My name is Alice and I am 25 years old.\n"
          ]
        }
      ]
    },
    {
      "cell_type": "code",
      "source": [
        "x = 9\n",
        "y = 9\n",
        "print(f'{x:02} * {y:02} = {x*y}')"
      ],
      "metadata": {
        "colab": {
          "base_uri": "https://localhost:8080/"
        },
        "id": "k7Y8XUCuAznl",
        "outputId": "9c1e1197-2915-4463-87bf-a5c1b981e7e3"
      },
      "execution_count": null,
      "outputs": [
        {
          "output_type": "stream",
          "name": "stdout",
          "text": [
            "09 * 09 = 81\n"
          ]
        }
      ]
    },
    {
      "cell_type": "code",
      "source": [
        "text = \"abcdefghij\"\n",
        "print(text[2:8:2])\n",
        "print(text[::-1])"
      ],
      "metadata": {
        "colab": {
          "base_uri": "https://localhost:8080/"
        },
        "id": "Z_sFJFscBggn",
        "outputId": "1db4aa0e-296b-4f06-ba6d-1a6ac5e3bf09"
      },
      "execution_count": null,
      "outputs": [
        {
          "output_type": "stream",
          "name": "stdout",
          "text": [
            "ceg\n",
            "jihgfedcba\n"
          ]
        }
      ]
    },
    {
      "cell_type": "code",
      "source": [
        "text = \"apple,banana,cherry\"\n",
        "result = text.split(\",\")\n",
        "print(result)"
      ],
      "metadata": {
        "colab": {
          "base_uri": "https://localhost:8080/"
        },
        "id": "BRj1sykWBuGR",
        "outputId": "7cf2d1e7-bc64-498a-8c30-efb0baaf2334"
      },
      "execution_count": null,
      "outputs": [
        {
          "output_type": "stream",
          "name": "stdout",
          "text": [
            "['apple', 'banana', 'cherry']\n"
          ]
        }
      ]
    },
    {
      "cell_type": "code",
      "source": [
        "text = \"apple banana apple cherry\"\n",
        "result = text.replace(\"apple\", \"grape\")\n",
        "print(result)"
      ],
      "metadata": {
        "colab": {
          "base_uri": "https://localhost:8080/"
        },
        "id": "YwF2IZVuB0lJ",
        "outputId": "a792edf9-d476-479d-8995-3b29f4bc7eb0"
      },
      "execution_count": null,
      "outputs": [
        {
          "output_type": "stream",
          "name": "stdout",
          "text": [
            "grape banana grape cherry\n"
          ]
        }
      ]
    },
    {
      "cell_type": "code",
      "source": [
        "# 建立一個元組\n",
        "fruits = ('apple', 'banana', 'cherry', 'apple', 'banana', 'apple')\n",
        "banana_index = fruits.index('banana')\n",
        "print(\"第一個 'banana' 的索引位置:\", banana_index)\n",
        "apple_count = fruits.count('apple')\n",
        "print(\"'apple' 出現的次數:\", apple_count)"
      ],
      "metadata": {
        "colab": {
          "base_uri": "https://localhost:8080/"
        },
        "id": "CitwxS04MjZY",
        "outputId": "2f56fcbb-09ac-4882-824a-b6f251a2ba66"
      },
      "execution_count": null,
      "outputs": [
        {
          "output_type": "stream",
          "name": "stdout",
          "text": [
            "第一個 'banana' 的索引位置: 1\n",
            "'apple' 出現的次數: 3\n"
          ]
        }
      ]
    },
    {
      "cell_type": "code",
      "source": [
        "nm = input('two nums:')\n",
        "nms = nm.split()\n",
        "a, b = map(int, nms)"
      ],
      "metadata": {
        "colab": {
          "base_uri": "https://localhost:8080/"
        },
        "id": "ftk7de32NIZy",
        "outputId": "dc815a28-ce63-48de-8468-666ffc647238"
      },
      "execution_count": null,
      "outputs": [
        {
          "name": "stdout",
          "output_type": "stream",
          "text": [
            "two nums:5 6\n"
          ]
        }
      ]
    },
    {
      "cell_type": "code",
      "source": [
        "\"-\".join([\"Apple\", \"Banana\", \"Cherry\"])"
      ],
      "metadata": {
        "colab": {
          "base_uri": "https://localhost:8080/",
          "height": 35
        },
        "id": "24-t5KViODVO",
        "outputId": "deac0e1a-9cad-4d95-b854-ff17ad5ce831"
      },
      "execution_count": null,
      "outputs": [
        {
          "output_type": "execute_result",
          "data": {
            "text/plain": [
              "'Apple-Banana-Cherry'"
            ],
            "application/vnd.google.colaboratory.intrinsic+json": {
              "type": "string"
            }
          },
          "metadata": {},
          "execution_count": 26
        }
      ]
    },
    {
      "cell_type": "code",
      "source": [
        "for i, val in enumerate([\"Spring\", \"Summer\"], 1):\n",
        "    print(i, val)"
      ],
      "metadata": {
        "colab": {
          "base_uri": "https://localhost:8080/"
        },
        "id": "S5HkFK_-ObWh",
        "outputId": "3f3f102d-cdaa-4305-e0ba-d1fc5ff4d21b"
      },
      "execution_count": null,
      "outputs": [
        {
          "output_type": "stream",
          "name": "stdout",
          "text": [
            "1 Spring\n",
            "2 Summer\n"
          ]
        }
      ]
    },
    {
      "cell_type": "code",
      "source": [
        "lst = []\n",
        "for i in range(1,11):\n",
        "    lst.append(i*i)\n",
        "\n",
        "print(lst)"
      ],
      "metadata": {
        "colab": {
          "base_uri": "https://localhost:8080/"
        },
        "id": "jVMGNjNZOno_",
        "outputId": "0cd5ef35-8f51-4150-da3d-238f6b23f3f3"
      },
      "execution_count": null,
      "outputs": [
        {
          "output_type": "stream",
          "name": "stdout",
          "text": [
            "[1, 4, 9, 16, 25, 36, 49, 64, 81, 100]\n"
          ]
        }
      ]
    },
    {
      "cell_type": "code",
      "source": [
        "lst = [ i*i for i in range(1,11) ]\n",
        "print(lst)"
      ],
      "metadata": {
        "colab": {
          "base_uri": "https://localhost:8080/"
        },
        "id": "-8x5eNY2O00Z",
        "outputId": "213107d9-faa5-4172-cc5d-99b25e2db8bc"
      },
      "execution_count": null,
      "outputs": [
        {
          "output_type": "stream",
          "name": "stdout",
          "text": [
            "[1, 4, 9, 16, 25, 36, 49, 64, 81, 100]\n"
          ]
        }
      ]
    },
    {
      "cell_type": "code",
      "source": [
        "# 建立字典\n",
        "student_scores = {\"Alice\": 85, \"Bob\": 90, \"Charlie\": 78}\n",
        "# 訪問字典中的值\n",
        "print(\"Alice 的分數:\", student_scores[\"Alice\"])\n",
        "# 新增或更新字典中的項目\n",
        "student_scores[\"David\"] = 88  # 新增\n",
        "student_scores[\"Alice\"] = 92  # 更新\n",
        "print(\"更新後的字典:\", student_scores)\n",
        "# 刪除字典中的項目\n",
        "del student_scores[\"Charlie\"]\n",
        "print(\"刪除後的字典:\", student_scores)"
      ],
      "metadata": {
        "colab": {
          "base_uri": "https://localhost:8080/"
        },
        "id": "gBL8E_KGPPVx",
        "outputId": "53a6bbba-5dd1-4fd4-a796-a89ae7f86e9f"
      },
      "execution_count": null,
      "outputs": [
        {
          "output_type": "stream",
          "name": "stdout",
          "text": [
            "Alice 的分數: 85\n",
            "更新後的字典: {'Alice': 92, 'Bob': 90, 'Charlie': 78, 'David': 88}\n",
            "刪除後的字典: {'Alice': 92, 'Bob': 90, 'David': 88}\n"
          ]
        }
      ]
    },
    {
      "cell_type": "code",
      "source": [
        "student_scores[\"Mike\"]"
      ],
      "metadata": {
        "colab": {
          "base_uri": "https://localhost:8080/",
          "height": 141
        },
        "id": "UwQMwJ5PPlSE",
        "outputId": "7f6dc25f-bc57-41a1-97be-6d6e652e4263"
      },
      "execution_count": null,
      "outputs": [
        {
          "output_type": "error",
          "ename": "KeyError",
          "evalue": "'Mike'",
          "traceback": [
            "\u001b[0;31m---------------------------------------------------------------------------\u001b[0m",
            "\u001b[0;31mKeyError\u001b[0m                                  Traceback (most recent call last)",
            "\u001b[0;32m<ipython-input-31-7ad7b0b8abfe>\u001b[0m in \u001b[0;36m<cell line: 0>\u001b[0;34m()\u001b[0m\n\u001b[0;32m----> 1\u001b[0;31m \u001b[0mstudent_scores\u001b[0m\u001b[0;34m[\u001b[0m\u001b[0;34m\"Mike\"\u001b[0m\u001b[0;34m]\u001b[0m\u001b[0;34m\u001b[0m\u001b[0;34m\u001b[0m\u001b[0m\n\u001b[0m",
            "\u001b[0;31mKeyError\u001b[0m: 'Mike'"
          ]
        }
      ]
    },
    {
      "cell_type": "code",
      "source": [
        "keys = student_scores.keys()\n",
        "print(\"字典中的鍵:\", list(keys))"
      ],
      "metadata": {
        "colab": {
          "base_uri": "https://localhost:8080/"
        },
        "id": "ywJ_zB34P5cD",
        "outputId": "05b32238-f9e0-4ba9-90b7-241e3d09e4d0"
      },
      "execution_count": null,
      "outputs": [
        {
          "output_type": "stream",
          "name": "stdout",
          "text": [
            "字典中的鍵: ['Alice', 'Bob', 'David']\n"
          ]
        }
      ]
    },
    {
      "cell_type": "code",
      "source": [
        "values = student_scores.values()\n",
        "print(\"字典中的值:\", list(values))"
      ],
      "metadata": {
        "colab": {
          "base_uri": "https://localhost:8080/"
        },
        "id": "IKUi4dgeQA09",
        "outputId": "36973969-e3a7-43f5-8e69-94ae44a63faa"
      },
      "execution_count": null,
      "outputs": [
        {
          "output_type": "stream",
          "name": "stdout",
          "text": [
            "字典中的值: [92, 90, 88]\n"
          ]
        }
      ]
    },
    {
      "cell_type": "code",
      "source": [
        "# 獲取所有鍵值對\n",
        "items = student_scores.items()\n",
        "print(\"字典中的鍵值對:\", list(items))"
      ],
      "metadata": {
        "colab": {
          "base_uri": "https://localhost:8080/"
        },
        "id": "lRPIwob9QFnM",
        "outputId": "5576463d-73de-4a54-b447-45dd85c0c1d8"
      },
      "execution_count": null,
      "outputs": [
        {
          "output_type": "stream",
          "name": "stdout",
          "text": [
            "字典中的鍵值對: [('Alice', 92), ('Bob', 90), ('David', 88)]\n"
          ]
        }
      ]
    },
    {
      "cell_type": "code",
      "source": [
        "for name, score in student_scores.items():\n",
        "    print(f\"{name} 的分數是 {score}\")"
      ],
      "metadata": {
        "id": "4USqlzdkQS_l",
        "outputId": "e1ad57e4-743b-4cdd-8d16-51a459ca07b1",
        "colab": {
          "base_uri": "https://localhost:8080/"
        }
      },
      "execution_count": null,
      "outputs": [
        {
          "output_type": "stream",
          "name": "stdout",
          "text": [
            "Alice 的分數是 92\n",
            "Bob 的分數是 90\n",
            "David 的分數是 88\n"
          ]
        }
      ]
    },
    {
      "cell_type": "markdown",
      "source": [
        "## Function"
      ],
      "metadata": {
        "id": "QIwY_yHXrr2Q"
      }
    },
    {
      "cell_type": "code",
      "source": [
        "dir(__builtins__)"
      ],
      "metadata": {
        "colab": {
          "base_uri": "https://localhost:8080/"
        },
        "id": "Ez4U7Wm4zDhX",
        "outputId": "b8df7a52-f226-400c-c6ee-a16108d2774e"
      },
      "execution_count": 1,
      "outputs": [
        {
          "output_type": "execute_result",
          "data": {
            "text/plain": [
              "['ArithmeticError',\n",
              " 'AssertionError',\n",
              " 'AttributeError',\n",
              " 'BaseException',\n",
              " 'BaseExceptionGroup',\n",
              " 'BlockingIOError',\n",
              " 'BrokenPipeError',\n",
              " 'BufferError',\n",
              " 'BytesWarning',\n",
              " 'ChildProcessError',\n",
              " 'ConnectionAbortedError',\n",
              " 'ConnectionError',\n",
              " 'ConnectionRefusedError',\n",
              " 'ConnectionResetError',\n",
              " 'DeprecationWarning',\n",
              " 'EOFError',\n",
              " 'Ellipsis',\n",
              " 'EncodingWarning',\n",
              " 'EnvironmentError',\n",
              " 'Exception',\n",
              " 'ExceptionGroup',\n",
              " 'False',\n",
              " 'FileExistsError',\n",
              " 'FileNotFoundError',\n",
              " 'FloatingPointError',\n",
              " 'FutureWarning',\n",
              " 'GeneratorExit',\n",
              " 'IOError',\n",
              " 'ImportError',\n",
              " 'ImportWarning',\n",
              " 'IndentationError',\n",
              " 'IndexError',\n",
              " 'InterruptedError',\n",
              " 'IsADirectoryError',\n",
              " 'KeyError',\n",
              " 'KeyboardInterrupt',\n",
              " 'LookupError',\n",
              " 'MemoryError',\n",
              " 'ModuleNotFoundError',\n",
              " 'NameError',\n",
              " 'None',\n",
              " 'NotADirectoryError',\n",
              " 'NotImplemented',\n",
              " 'NotImplementedError',\n",
              " 'OSError',\n",
              " 'OverflowError',\n",
              " 'PendingDeprecationWarning',\n",
              " 'PermissionError',\n",
              " 'ProcessLookupError',\n",
              " 'RecursionError',\n",
              " 'ReferenceError',\n",
              " 'ResourceWarning',\n",
              " 'RuntimeError',\n",
              " 'RuntimeWarning',\n",
              " 'StopAsyncIteration',\n",
              " 'StopIteration',\n",
              " 'SyntaxError',\n",
              " 'SyntaxWarning',\n",
              " 'SystemError',\n",
              " 'SystemExit',\n",
              " 'TabError',\n",
              " 'TimeoutError',\n",
              " 'True',\n",
              " 'TypeError',\n",
              " 'UnboundLocalError',\n",
              " 'UnicodeDecodeError',\n",
              " 'UnicodeEncodeError',\n",
              " 'UnicodeError',\n",
              " 'UnicodeTranslateError',\n",
              " 'UnicodeWarning',\n",
              " 'UserWarning',\n",
              " 'ValueError',\n",
              " 'Warning',\n",
              " 'ZeroDivisionError',\n",
              " '__IPYTHON__',\n",
              " '__build_class__',\n",
              " '__debug__',\n",
              " '__doc__',\n",
              " '__import__',\n",
              " '__loader__',\n",
              " '__name__',\n",
              " '__package__',\n",
              " '__pybind11_internals_v4_gcc_libstdcpp_cxxabi1014__',\n",
              " '__spec__',\n",
              " 'abs',\n",
              " 'aiter',\n",
              " 'all',\n",
              " 'anext',\n",
              " 'any',\n",
              " 'ascii',\n",
              " 'bin',\n",
              " 'bool',\n",
              " 'breakpoint',\n",
              " 'bytearray',\n",
              " 'bytes',\n",
              " 'callable',\n",
              " 'chr',\n",
              " 'classmethod',\n",
              " 'compile',\n",
              " 'complex',\n",
              " 'copyright',\n",
              " 'credits',\n",
              " 'delattr',\n",
              " 'dict',\n",
              " 'dir',\n",
              " 'display',\n",
              " 'divmod',\n",
              " 'enumerate',\n",
              " 'eval',\n",
              " 'exec',\n",
              " 'execfile',\n",
              " 'filter',\n",
              " 'float',\n",
              " 'format',\n",
              " 'frozenset',\n",
              " 'get_ipython',\n",
              " 'getattr',\n",
              " 'globals',\n",
              " 'hasattr',\n",
              " 'hash',\n",
              " 'help',\n",
              " 'hex',\n",
              " 'id',\n",
              " 'input',\n",
              " 'int',\n",
              " 'isinstance',\n",
              " 'issubclass',\n",
              " 'iter',\n",
              " 'len',\n",
              " 'license',\n",
              " 'list',\n",
              " 'locals',\n",
              " 'map',\n",
              " 'max',\n",
              " 'memoryview',\n",
              " 'min',\n",
              " 'next',\n",
              " 'object',\n",
              " 'oct',\n",
              " 'open',\n",
              " 'ord',\n",
              " 'pow',\n",
              " 'print',\n",
              " 'property',\n",
              " 'range',\n",
              " 'repr',\n",
              " 'reversed',\n",
              " 'round',\n",
              " 'runfile',\n",
              " 'set',\n",
              " 'setattr',\n",
              " 'slice',\n",
              " 'sorted',\n",
              " 'staticmethod',\n",
              " 'str',\n",
              " 'sum',\n",
              " 'super',\n",
              " 'tuple',\n",
              " 'type',\n",
              " 'vars',\n",
              " 'zip']"
            ]
          },
          "metadata": {},
          "execution_count": 1
        }
      ]
    },
    {
      "cell_type": "code",
      "source": [
        "# 定義一個函式，計算兩個數字的和\n",
        "def add_numbers(a, b):\n",
        "    s = a + b\n",
        "    return s\n",
        "# 呼叫函式並接收回傳值\n",
        "result = add_numbers(5, 3)\n",
        "print(f\"The sum is: {result}\")"
      ],
      "metadata": {
        "colab": {
          "base_uri": "https://localhost:8080/"
        },
        "id": "PNrreMbPzobo",
        "outputId": "68ac1a16-2989-431a-aa3a-dc2c769e6056"
      },
      "execution_count": 2,
      "outputs": [
        {
          "output_type": "stream",
          "name": "stdout",
          "text": [
            "The sum is: 8\n"
          ]
        }
      ]
    },
    {
      "cell_type": "code",
      "source": [
        "def show_data(name='Anonymous'):\n",
        "    print(name)\n",
        "show_data('mike')"
      ],
      "metadata": {
        "colab": {
          "base_uri": "https://localhost:8080/"
        },
        "id": "AmkYFhu3z3kE",
        "outputId": "1caefc3c-c0cb-4232-e649-058776550c8f"
      },
      "execution_count": 4,
      "outputs": [
        {
          "output_type": "stream",
          "name": "stdout",
          "text": [
            "mike\n"
          ]
        }
      ]
    },
    {
      "cell_type": "code",
      "source": [
        "def example():\n",
        "    return 1, 2, 3\n",
        "a = example()\n",
        "a"
      ],
      "metadata": {
        "colab": {
          "base_uri": "https://localhost:8080/"
        },
        "id": "anXDSkwU0HTh",
        "outputId": "29771d1e-f61d-452b-f3a7-e6df102f6828"
      },
      "execution_count": 8,
      "outputs": [
        {
          "output_type": "execute_result",
          "data": {
            "text/plain": [
              "(1, 2, 3)"
            ]
          },
          "metadata": {},
          "execution_count": 8
        }
      ]
    },
    {
      "cell_type": "code",
      "source": [
        "add = lambda a, b: a + b\n",
        "print(add(3, 5))"
      ],
      "metadata": {
        "colab": {
          "base_uri": "https://localhost:8080/"
        },
        "id": "ffFt9-aR0vef",
        "outputId": "2529c541-494b-4b75-f542-3e335634cc4b"
      },
      "execution_count": 9,
      "outputs": [
        {
          "output_type": "stream",
          "name": "stdout",
          "text": [
            "8\n"
          ]
        }
      ]
    },
    {
      "cell_type": "code",
      "source": [
        "def add(a, b):\n",
        "    return a + b\n",
        "\n",
        "print(add(3, 5))"
      ],
      "metadata": {
        "colab": {
          "base_uri": "https://localhost:8080/"
        },
        "id": "k30YSYNM0wtv",
        "outputId": "70df0da6-7f77-4e92-92ca-3cb8249bbce0"
      },
      "execution_count": 10,
      "outputs": [
        {
          "output_type": "stream",
          "name": "stdout",
          "text": [
            "8\n"
          ]
        }
      ]
    },
    {
      "cell_type": "code",
      "source": [
        "nms = input().split()\n",
        "\n",
        "\n",
        "ns = list(map(int, nms))\n",
        "ns"
      ],
      "metadata": {
        "colab": {
          "base_uri": "https://localhost:8080/"
        },
        "id": "yuUDKHd21pE5",
        "outputId": "64c054a0-3fd5-4b7d-d44a-07e15c6d92b6"
      },
      "execution_count": 15,
      "outputs": [
        {
          "name": "stdout",
          "output_type": "stream",
          "text": [
            "2 5 7\n"
          ]
        },
        {
          "output_type": "execute_result",
          "data": {
            "text/plain": [
              "[2, 5, 7]"
            ]
          },
          "metadata": {},
          "execution_count": 15
        }
      ]
    },
    {
      "cell_type": "code",
      "source": [
        "# 使用 map 與 lambda 計算平方\n",
        "numbers = [1, 2, 3, 4, 5]\n",
        "squared_numbers = list(map(lambda x: x**2, numbers))\n",
        "print(\"平方數列表:\", squared_numbers)  # 輸出: [1, 4, 9, 16, 25]"
      ],
      "metadata": {
        "colab": {
          "base_uri": "https://localhost:8080/"
        },
        "id": "VBBttQa71mit",
        "outputId": "c4914c56-10e3-4275-e17f-fe6498ce3e9c"
      },
      "execution_count": 11,
      "outputs": [
        {
          "output_type": "stream",
          "name": "stdout",
          "text": [
            "平方數列表: [1, 4, 9, 16, 25]\n"
          ]
        }
      ]
    },
    {
      "cell_type": "markdown",
      "source": [
        "## File"
      ],
      "metadata": {
        "id": "so_xyzd9F83T"
      }
    },
    {
      "cell_type": "code",
      "source": [
        "f = open('/content/data.csv', 'r', encoding='UTF-8')\n",
        "data = f.read()\n",
        "print(data)\n",
        "f.close()"
      ],
      "metadata": {
        "colab": {
          "base_uri": "https://localhost:8080/"
        },
        "id": "4h3DuIdaF358",
        "outputId": "2dddae73-f664-4414-ce83-86874a7ae7f4"
      },
      "execution_count": 17,
      "outputs": [
        {
          "output_type": "stream",
          "name": "stdout",
          "text": [
            "Name,Age,City\n",
            "Alice,25,New York\n",
            "Bob,30,Los Angeles\n",
            "Charlie,35,Chicago\n",
            "\n"
          ]
        }
      ]
    },
    {
      "cell_type": "code",
      "source": [
        "f = open('/content/data.csv', 'w')\n",
        "f.write('hello')\n",
        "f.close()\n"
      ],
      "metadata": {
        "id": "-64Vc1v6Gyks"
      },
      "execution_count": 20,
      "outputs": []
    },
    {
      "cell_type": "code",
      "source": [
        "with open('/content/data.csv', 'r') as f:\n",
        "    data = f.read()\n",
        "print(data)"
      ],
      "metadata": {
        "colab": {
          "base_uri": "https://localhost:8080/"
        },
        "id": "93ftsBooHYiL",
        "outputId": "5525e571-b628-4b72-b342-70e745cbe88e"
      },
      "execution_count": 21,
      "outputs": [
        {
          "output_type": "stream",
          "name": "stdout",
          "text": [
            "hello\n"
          ]
        }
      ]
    }
  ]
}