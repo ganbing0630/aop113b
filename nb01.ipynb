{
  "nbformat": 4,
  "nbformat_minor": 0,
  "metadata": {
    "colab": {
      "provenance": [],
      "authorship_tag": "ABX9TyMzrjGs+NP+4myA6i53/8DF",
      "include_colab_link": true
    },
    "kernelspec": {
      "name": "python3",
      "display_name": "Python 3"
    },
    "language_info": {
      "name": "python"
    }
  },
  "cells": [
    {
      "cell_type": "markdown",
      "metadata": {
        "id": "view-in-github",
        "colab_type": "text"
      },
      "source": [
        "<a href=\"https://colab.research.google.com/github/imchihchao/aop113b/blob/main/nb01.ipynb\" target=\"_parent\"><img src=\"https://colab.research.google.com/assets/colab-badge.svg\" alt=\"Open In Colab\"/></a>"
      ]
    },
    {
      "cell_type": "markdown",
      "source": [
        "## Basic"
      ],
      "metadata": {
        "id": "4QTot9dK-y8V"
      }
    },
    {
      "cell_type": "code",
      "execution_count": null,
      "metadata": {
        "id": "fF2ci8O1-oTT"
      },
      "outputs": [],
      "source": [
        "# 註解\n",
        "'''\n",
        "多行註解\n",
        "1\n",
        "2\n",
        "'''"
      ]
    },
    {
      "cell_type": "code",
      "source": [
        "# 資料型態\n",
        "'1'+'1'\n",
        "1+1"
      ],
      "metadata": {
        "colab": {
          "base_uri": "https://localhost:8080/"
        },
        "id": "mlBr4YjT_a81",
        "outputId": "a5ed52b2-63eb-42fd-bad2-e718e9285dbe"
      },
      "execution_count": 4,
      "outputs": [
        {
          "output_type": "execute_result",
          "data": {
            "text/plain": [
              "2"
            ]
          },
          "metadata": {},
          "execution_count": 4
        }
      ]
    },
    {
      "cell_type": "code",
      "source": [
        "type('tes')"
      ],
      "metadata": {
        "colab": {
          "base_uri": "https://localhost:8080/"
        },
        "id": "CKjnlcFP_xC2",
        "outputId": "fc68bfaa-f3fd-42fd-fd02-2b9b52d63cec"
      },
      "execution_count": 5,
      "outputs": [
        {
          "output_type": "execute_result",
          "data": {
            "text/plain": [
              "str"
            ]
          },
          "metadata": {},
          "execution_count": 5
        }
      ]
    },
    {
      "cell_type": "code",
      "source": [
        "# 資料輸出與格式化\n",
        "print('Hello', 'world', sep='---', end='\\n')\n"
      ],
      "metadata": {
        "colab": {
          "base_uri": "https://localhost:8080/"
        },
        "id": "k-NhG-ejAE2G",
        "outputId": "bc0e18fd-6baa-4a9f-c63c-dcda00f2b558"
      },
      "execution_count": 7,
      "outputs": [
        {
          "output_type": "stream",
          "name": "stdout",
          "text": [
            "Hello---world\n"
          ]
        }
      ]
    },
    {
      "cell_type": "code",
      "source": [
        "'\\''"
      ],
      "metadata": {
        "colab": {
          "base_uri": "https://localhost:8080/",
          "height": 35
        },
        "id": "wHPkPj2BA5rR",
        "outputId": "02ee3679-91dd-43db-a089-67f749fd231c"
      },
      "execution_count": 8,
      "outputs": [
        {
          "output_type": "execute_result",
          "data": {
            "text/plain": [
              "\"'\""
            ],
            "application/vnd.google.colaboratory.intrinsic+json": {
              "type": "string"
            }
          },
          "metadata": {},
          "execution_count": 8
        }
      ]
    },
    {
      "cell_type": "code",
      "source": [
        "# 問候\n",
        "name = input('請輸入您的姓名：')\n",
        "print('您好！', name)"
      ],
      "metadata": {
        "colab": {
          "base_uri": "https://localhost:8080/"
        },
        "id": "jkJ9fB0RBGLY",
        "outputId": "40c21265-e22e-455d-afb2-62b5e85cfc21"
      },
      "execution_count": 9,
      "outputs": [
        {
          "output_type": "stream",
          "name": "stdout",
          "text": [
            "請輸入您的姓名：123\n",
            "您好！ 123\n"
          ]
        }
      ]
    },
    {
      "cell_type": "markdown",
      "source": [
        "## Expression"
      ],
      "metadata": {
        "id": "r1xBQXwKFXmj"
      }
    },
    {
      "cell_type": "code",
      "source": [
        "import keyword\n",
        "print(keyword.kwlist)"
      ],
      "metadata": {
        "colab": {
          "base_uri": "https://localhost:8080/"
        },
        "id": "3LdE4ziJFc-s",
        "outputId": "9fd919a6-958c-4c3d-f10e-0ee652b24f1f"
      },
      "execution_count": 10,
      "outputs": [
        {
          "output_type": "stream",
          "name": "stdout",
          "text": [
            "['False', 'None', 'True', 'and', 'as', 'assert', 'async', 'await', 'break', 'class', 'continue', 'def', 'del', 'elif', 'else', 'except', 'finally', 'for', 'from', 'global', 'if', 'import', 'in', 'is', 'lambda', 'nonlocal', 'not', 'or', 'pass', 'raise', 'return', 'try', 'while', 'with', 'yield']\n"
          ]
        }
      ]
    },
    {
      "cell_type": "code",
      "source": [
        "'123' * 5"
      ],
      "metadata": {
        "colab": {
          "base_uri": "https://localhost:8080/",
          "height": 35
        },
        "id": "cZQ5LY2XI3IK",
        "outputId": "343f95f7-be42-45dd-dcfa-abc3defbb885"
      },
      "execution_count": 11,
      "outputs": [
        {
          "output_type": "execute_result",
          "data": {
            "text/plain": [
              "'123123123123123'"
            ],
            "application/vnd.google.colaboratory.intrinsic+json": {
              "type": "string"
            }
          },
          "metadata": {},
          "execution_count": 11
        }
      ]
    },
    {
      "cell_type": "markdown",
      "source": [
        "## Control Flow"
      ],
      "metadata": {
        "id": "FQ3ne0ezNKFE"
      }
    },
    {
      "cell_type": "code",
      "source": [
        "# ⾼鐵兒童免費\n",
        "cost = 1490\n",
        "age = int(input('年紀:'))\n",
        "if age <= 6:\n",
        "    cost = 0\n",
        "print('⾞票費⽤', cost)"
      ],
      "metadata": {
        "colab": {
          "base_uri": "https://localhost:8080/"
        },
        "id": "2MH32B11NL0E",
        "outputId": "eebe4dd7-5c25-4047-a041-f44960444dcc"
      },
      "execution_count": 2,
      "outputs": [
        {
          "output_type": "stream",
          "name": "stdout",
          "text": [
            "年紀:3\n",
            "⾞票費⽤ 0\n"
          ]
        }
      ]
    },
    {
      "cell_type": "code",
      "source": [
        "s = int(input())\n",
        "if s < 60:\n",
        "    print('不及格')\n",
        "else:\n",
        "    print('及格')"
      ],
      "metadata": {
        "colab": {
          "base_uri": "https://localhost:8080/"
        },
        "id": "Ix5uqrY5O75W",
        "outputId": "0c416288-be8d-4867-d5b1-8808bbeeee8d"
      },
      "execution_count": 4,
      "outputs": [
        {
          "output_type": "stream",
          "name": "stdout",
          "text": [
            "80\n",
            "及格\n"
          ]
        }
      ]
    }
  ]
}