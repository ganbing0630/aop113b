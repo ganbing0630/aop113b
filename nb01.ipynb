{
  "nbformat": 4,
  "nbformat_minor": 0,
  "metadata": {
    "colab": {
      "provenance": [],
      "authorship_tag": "ABX9TyPQso2Ojf/ps8K0jG85Eh0O",
      "include_colab_link": true
    },
    "kernelspec": {
      "name": "python3",
      "display_name": "Python 3"
    },
    "language_info": {
      "name": "python"
    }
  },
  "cells": [
    {
      "cell_type": "markdown",
      "metadata": {
        "id": "view-in-github",
        "colab_type": "text"
      },
      "source": [
        "<a href=\"https://colab.research.google.com/github/imchihchao/aop113b/blob/main/nb01.ipynb\" target=\"_parent\"><img src=\"https://colab.research.google.com/assets/colab-badge.svg\" alt=\"Open In Colab\"/></a>"
      ]
    },
    {
      "cell_type": "markdown",
      "source": [
        "## Basic"
      ],
      "metadata": {
        "id": "4QTot9dK-y8V"
      }
    },
    {
      "cell_type": "code",
      "execution_count": null,
      "metadata": {
        "id": "fF2ci8O1-oTT"
      },
      "outputs": [],
      "source": [
        "# 註解\n",
        "'''\n",
        "多行註解\n",
        "1\n",
        "2\n",
        "'''"
      ]
    },
    {
      "cell_type": "code",
      "source": [
        "# 資料型態\n",
        "'1'+'1'\n",
        "1+1"
      ],
      "metadata": {
        "colab": {
          "base_uri": "https://localhost:8080/"
        },
        "id": "mlBr4YjT_a81",
        "outputId": "a5ed52b2-63eb-42fd-bad2-e718e9285dbe"
      },
      "execution_count": 4,
      "outputs": [
        {
          "output_type": "execute_result",
          "data": {
            "text/plain": [
              "2"
            ]
          },
          "metadata": {},
          "execution_count": 4
        }
      ]
    },
    {
      "cell_type": "code",
      "source": [
        "type('tes')"
      ],
      "metadata": {
        "colab": {
          "base_uri": "https://localhost:8080/"
        },
        "id": "CKjnlcFP_xC2",
        "outputId": "fc68bfaa-f3fd-42fd-fd02-2b9b52d63cec"
      },
      "execution_count": 5,
      "outputs": [
        {
          "output_type": "execute_result",
          "data": {
            "text/plain": [
              "str"
            ]
          },
          "metadata": {},
          "execution_count": 5
        }
      ]
    },
    {
      "cell_type": "code",
      "source": [
        "# 資料輸出與格式化\n",
        "print('Hello', 'world', sep='---', end='\\n')\n"
      ],
      "metadata": {
        "colab": {
          "base_uri": "https://localhost:8080/"
        },
        "id": "k-NhG-ejAE2G",
        "outputId": "bc0e18fd-6baa-4a9f-c63c-dcda00f2b558"
      },
      "execution_count": 7,
      "outputs": [
        {
          "output_type": "stream",
          "name": "stdout",
          "text": [
            "Hello---world\n"
          ]
        }
      ]
    },
    {
      "cell_type": "code",
      "source": [
        "'\\''"
      ],
      "metadata": {
        "colab": {
          "base_uri": "https://localhost:8080/",
          "height": 35
        },
        "id": "wHPkPj2BA5rR",
        "outputId": "02ee3679-91dd-43db-a089-67f749fd231c"
      },
      "execution_count": 8,
      "outputs": [
        {
          "output_type": "execute_result",
          "data": {
            "text/plain": [
              "\"'\""
            ],
            "application/vnd.google.colaboratory.intrinsic+json": {
              "type": "string"
            }
          },
          "metadata": {},
          "execution_count": 8
        }
      ]
    },
    {
      "cell_type": "code",
      "source": [
        "# 問候\n",
        "name = input('請輸入您的姓名：')\n",
        "print('您好！', name)"
      ],
      "metadata": {
        "colab": {
          "base_uri": "https://localhost:8080/"
        },
        "id": "jkJ9fB0RBGLY",
        "outputId": "40c21265-e22e-455d-afb2-62b5e85cfc21"
      },
      "execution_count": 9,
      "outputs": [
        {
          "output_type": "stream",
          "name": "stdout",
          "text": [
            "請輸入您的姓名：123\n",
            "您好！ 123\n"
          ]
        }
      ]
    },
    {
      "cell_type": "markdown",
      "source": [
        "## Expression"
      ],
      "metadata": {
        "id": "r1xBQXwKFXmj"
      }
    },
    {
      "cell_type": "code",
      "source": [],
      "metadata": {
        "id": "3LdE4ziJFc-s"
      },
      "execution_count": null,
      "outputs": []
    }
  ]
}