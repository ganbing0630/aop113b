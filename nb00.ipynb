{
  "nbformat": 4,
  "nbformat_minor": 0,
  "metadata": {
    "colab": {
      "provenance": [],
      "authorship_tag": "ABX9TyN1/yHyjGMJZCEIqkgZb4So",
      "include_colab_link": true
    },
    "kernelspec": {
      "name": "python3",
      "display_name": "Python 3"
    },
    "language_info": {
      "name": "python"
    }
  },
  "cells": [
    {
      "cell_type": "markdown",
      "metadata": {
        "id": "view-in-github",
        "colab_type": "text"
      },
      "source": [
        "<a href=\"https://colab.research.google.com/github/imchihchao/aop113b/blob/main/nb00.ipynb\" target=\"_parent\"><img src=\"https://colab.research.google.com/assets/colab-badge.svg\" alt=\"Open In Colab\"/></a>"
      ]
    },
    {
      "cell_type": "markdown",
      "source": [
        "# 這是 H1 標題\n",
        "## 這是 H2 標題\n",
        "### 這是 H3 標題\n",
        "#### 這是 H4 標題"
      ],
      "metadata": {
        "id": "bR34PObx5l35"
      }
    },
    {
      "cell_type": "markdown",
      "source": [
        "text\n",
        "\n",
        "t2"
      ],
      "metadata": {
        "id": "kx_htnUm7cBU"
      }
    },
    {
      "cell_type": "markdown",
      "source": [
        "- item1\n",
        "- item2\n",
        "    - item3"
      ],
      "metadata": {
        "id": "RSIxFPJT7s50"
      }
    },
    {
      "cell_type": "markdown",
      "source": [
        "![](https://www.nsysu.edu.tw/static/file/0/1000/img/526/logo.png)"
      ],
      "metadata": {
        "id": "bISvWUIR9K7I"
      }
    },
    {
      "cell_type": "markdown",
      "source": [
        "> 這是⼀段引⽤\n",
        ">\n",
        "> 可以包含多⾏⽂字"
      ],
      "metadata": {
        "id": "qx4s-o0J9YIA"
      }
    },
    {
      "cell_type": "markdown",
      "source": [
        "```\n",
        "print('hello')\n",
        "```"
      ],
      "metadata": {
        "id": "p9tEFQRZ9jEo"
      }
    },
    {
      "cell_type": "markdown",
      "source": [
        "| 標題1 | 標題2 | 標題3 |\n",
        "|:-----|:-----:|------:|\n",
        "| 靠左 | 置中 | 靠右 |\n",
        "| ⽂字 | ⽂字 | ⽂字 |\n"
      ],
      "metadata": {
        "id": "DSvGkYUP9t3I"
      }
    },
    {
      "cell_type": "code",
      "execution_count": null,
      "metadata": {
        "id": "xTrPUFcY1f4H"
      },
      "outputs": [],
      "source": []
    }
  ]
}