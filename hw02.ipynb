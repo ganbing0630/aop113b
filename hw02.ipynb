{
  "nbformat": 4,
  "nbformat_minor": 0,
  "metadata": {
    "colab": {
      "provenance": [],
      "authorship_tag": "ABX9TyMxFs740XneIS6PGnEYfs0X",
      "include_colab_link": true
    },
    "kernelspec": {
      "name": "python3",
      "display_name": "Python 3"
    },
    "language_info": {
      "name": "python"
    }
  },
  "cells": [
    {
      "cell_type": "markdown",
      "metadata": {
        "id": "view-in-github",
        "colab_type": "text"
      },
      "source": [
        "<a href=\"https://colab.research.google.com/github/imchihchao/aop113b/blob/main/hw02_web_crawler.ipynb\" target=\"_parent\"><img src=\"https://colab.research.google.com/assets/colab-badge.svg\" alt=\"Open In Colab\"/></a>"
      ]
    },
    {
      "cell_type": "markdown",
      "source": [
        "## 目標網站"
      ],
      "metadata": {
        "id": "xMRNH4Oqpanu"
      }
    },
    {
      "cell_type": "markdown",
      "source": [
        "介紹爬取的數據來源與目標。"
      ],
      "metadata": {
        "id": "WEG7TOqsp3Kq"
      }
    },
    {
      "cell_type": "markdown",
      "source": [
        "## 爬取資料"
      ],
      "metadata": {
        "id": "N737OlH6pfYZ"
      }
    },
    {
      "cell_type": "markdown",
      "source": [
        "爬蟲方法與遇到的問題。"
      ],
      "metadata": {
        "id": "V6YFHvDnp5kX"
      }
    },
    {
      "cell_type": "code",
      "execution_count": null,
      "metadata": {
        "id": "kekUdmoapSxy"
      },
      "outputs": [],
      "source": []
    },
    {
      "cell_type": "markdown",
      "source": [
        "## 資料儲存"
      ],
      "metadata": {
        "id": "0aSxqF55plLx"
      }
    },
    {
      "cell_type": "markdown",
      "source": [
        "儲存資料成 CSV 或 JSON 檔。"
      ],
      "metadata": {
        "id": "aVJXMlZep9Za"
      }
    },
    {
      "cell_type": "markdown",
      "source": [
        "## 建議或心得"
      ],
      "metadata": {
        "id": "EXzkfIRzppjn"
      }
    }
  ]
}
