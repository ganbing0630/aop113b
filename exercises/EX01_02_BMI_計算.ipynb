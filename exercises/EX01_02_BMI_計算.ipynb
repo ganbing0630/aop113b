{
  "nbformat": 4,
  "nbformat_minor": 0,
  "metadata": {
    "colab": {
      "provenance": [],
      "authorship_tag": "ABX9TyMxGXu2O2fboBMzRhlE4OTK",
      "include_colab_link": true
    },
    "kernelspec": {
      "name": "python3",
      "display_name": "Python 3"
    },
    "language_info": {
      "name": "python"
    }
  },
  "cells": [
    {
      "cell_type": "markdown",
      "metadata": {
        "id": "view-in-github",
        "colab_type": "text"
      },
      "source": [
        "<a href=\"https://colab.research.google.com/github/imchihchao/aop113b/blob/main/EX01_02_BMI_%E8%A8%88%E7%AE%97.ipynb\" target=\"_parent\"><img src=\"https://colab.research.google.com/assets/colab-badge.svg\" alt=\"Open In Colab\"/></a>"
      ]
    },
    {
      "cell_type": "code",
      "execution_count": 2,
      "metadata": {
        "colab": {
          "base_uri": "https://localhost:8080/"
        },
        "id": "neyfojfRJL3m",
        "outputId": "b668d9a8-bc02-4eb6-f521-acae43121324"
      },
      "outputs": [
        {
          "output_type": "stream",
          "name": "stdout",
          "text": [
            "height(cm):177\n",
            "weight(kg):80\n",
            "BMI: 25.5\n"
          ]
        }
      ],
      "source": [
        "ht = float( input('height(cm):') )\n",
        "wt = float( input('weight(kg):') )\n",
        "bmi = wt / (ht/100)**2\n",
        "print('BMI:', round(bmi, 1))"
      ]
    }
  ]
}
