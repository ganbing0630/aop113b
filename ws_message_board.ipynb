{
  "nbformat": 4,
  "nbformat_minor": 0,
  "metadata": {
    "colab": {
      "provenance": [],
      "authorship_tag": "ABX9TyPv49V9omvE/CrhmM6XDjHQ",
      "include_colab_link": true
    },
    "kernelspec": {
      "name": "python3",
      "display_name": "Python 3"
    },
    "language_info": {
      "name": "python"
    }
  },
  "cells": [
    {
      "cell_type": "markdown",
      "metadata": {
        "id": "view-in-github",
        "colab_type": "text"
      },
      "source": [
        "<a href=\"https://colab.research.google.com/github/imchihchao/aop113b/blob/main/ws_message_board.ipynb\" target=\"_parent\"><img src=\"https://colab.research.google.com/assets/colab-badge.svg\" alt=\"Open In Colab\"/></a>"
      ]
    },
    {
      "cell_type": "code",
      "execution_count": 1,
      "metadata": {
        "id": "cQGJPE6ZaJoD"
      },
      "outputs": [],
      "source": [
        "!pip install -q pyngrok flask_ngrok # for colab\n",
        "!pip install -q flask"
      ]
    },
    {
      "cell_type": "code",
      "source": [
        "# for colab\n",
        "from google.colab import userdata\n",
        "from pyngrok import ngrok\n",
        "from flask_ngrok import run_with_ngrok\n",
        "def ngrok_start():\n",
        "    ngrok.set_auth_token(userdata.get('NGROK_AUTHTOKEN'))\n",
        "    ngrok.connect(5000)\n",
        "    run_with_ngrok(app)\n",
        "\n",
        "from flask import Flask, request, redirect, url_for, render_template_string\n",
        "\n",
        "app = Flask(__name__)\n",
        "\n",
        "# 用 Python 全域 list 暫存留言（重新啟動程式就會清空）\n",
        "messages = []\n",
        "\n",
        "# 以字串方式放在程式裡的超迷你 HTML 範本\n",
        "TEMPLATE = \"\"\"\n",
        "<!doctype html>\n",
        "<title>簡易留言板</title>\n",
        "<h1>留言板</h1>\n",
        "\n",
        "<ol>\n",
        "  {% for m in messages %}\n",
        "    <li>{{ m|e }}</li>\n",
        "  {% else %}\n",
        "    <li>目前沒有留言。</li>\n",
        "  {% endfor %}\n",
        "</ol>\n",
        "\n",
        "<hr>\n",
        "\n",
        "<form method=\"post\">\n",
        "  <label>留言內容：</label>\n",
        "  <input name=\"content\" required>\n",
        "  <button type=\"submit\">送出</button>\n",
        "</form>\n",
        "\"\"\"\n",
        "\n",
        "@app.route(\"/\", methods=[\"GET\", \"POST\"])\n",
        "def index():\n",
        "    if request.method == \"POST\":\n",
        "        content = request.form.get(\"content\", \"\").strip()\n",
        "        if content:\n",
        "            messages.append(content)        # 把新留言加到 list\n",
        "        return redirect(url_for(\"index\"))   # Post/Redirect/Get：避免重新整理重覆送出\n",
        "    # GET 時顯示留言＋表單\n",
        "    return render_template_string(TEMPLATE, messages=messages)\n",
        "\n",
        "ngrok_start() # for colab\n",
        "if __name__ == \"__main__\":\n",
        "    app.run()"
      ],
      "metadata": {
        "colab": {
          "base_uri": "https://localhost:8080/"
        },
        "id": "lfyl1fd_aSdy",
        "outputId": "58c9a5f1-5e94-4200-929a-344e941d2c0f"
      },
      "execution_count": 2,
      "outputs": [
        {
          "output_type": "stream",
          "name": "stdout",
          "text": [
            " * Serving Flask app '__main__'\n",
            " * Debug mode: off\n"
          ]
        },
        {
          "output_type": "stream",
          "name": "stderr",
          "text": [
            "INFO:werkzeug:\u001b[31m\u001b[1mWARNING: This is a development server. Do not use it in a production deployment. Use a production WSGI server instead.\u001b[0m\n",
            " * Running on http://127.0.0.1:5000\n",
            "INFO:werkzeug:\u001b[33mPress CTRL+C to quit\u001b[0m\n"
          ]
        },
        {
          "output_type": "stream",
          "name": "stdout",
          "text": [
            " * Running on http://b304-35-196-223-131.ngrok-free.app\n",
            " * Traffic stats available on http://127.0.0.1:4040\n"
          ]
        },
        {
          "output_type": "stream",
          "name": "stderr",
          "text": [
            "INFO:werkzeug:127.0.0.1 - - [12/May/2025 07:46:13] \"GET / HTTP/1.1\" 200 -\n",
            "INFO:werkzeug:127.0.0.1 - - [12/May/2025 07:46:13] \"\u001b[33mGET /favicon.ico HTTP/1.1\u001b[0m\" 404 -\n",
            "INFO:werkzeug:127.0.0.1 - - [12/May/2025 07:46:20] \"\u001b[32mPOST / HTTP/1.1\u001b[0m\" 302 -\n",
            "INFO:werkzeug:127.0.0.1 - - [12/May/2025 07:46:20] \"GET / HTTP/1.1\" 200 -\n",
            "INFO:werkzeug:127.0.0.1 - - [12/May/2025 07:46:28] \"\u001b[32mPOST / HTTP/1.1\u001b[0m\" 302 -\n",
            "INFO:werkzeug:127.0.0.1 - - [12/May/2025 07:46:29] \"GET / HTTP/1.1\" 200 -\n"
          ]
        }
      ]
    }
  ]
}