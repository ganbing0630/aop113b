{
  "nbformat": 4,
  "nbformat_minor": 0,
  "metadata": {
    "colab": {
      "provenance": [],
      "mount_file_id": "1pPnb2ufX0FhGYW5pbS8isKfdMEYX-7KS",
      "authorship_tag": "ABX9TyNmGW2d1/nusi/9Djm50fk4",
      "include_colab_link": true
    },
    "kernelspec": {
      "name": "python3",
      "display_name": "Python 3"
    },
    "language_info": {
      "name": "python"
    }
  },
  "cells": [
    {
      "cell_type": "markdown",
      "metadata": {
        "id": "view-in-github",
        "colab_type": "text"
      },
      "source": [
        "<a href=\"https://colab.research.google.com/github/imchihchao/aop113b/blob/main/nb02.ipynb\" target=\"_parent\"><img src=\"https://colab.research.google.com/assets/colab-badge.svg\" alt=\"Open In Colab\"/></a>"
      ]
    },
    {
      "cell_type": "markdown",
      "source": [
        "## Google Gemini API"
      ],
      "metadata": {
        "id": "lQ6huPSaG8LW"
      }
    },
    {
      "cell_type": "code",
      "execution_count": null,
      "metadata": {
        "id": "s4ghtuhlMJKZ"
      },
      "outputs": [],
      "source": [
        "import google.generativeai as genai\n",
        "\n",
        "genai.configure(api_key=\"\")\n",
        "\n",
        "model = genai.GenerativeModel(\"gemini-2.0-flash\")\n",
        "\n",
        "response = model.generate_content(\"Explain how AI works\")\n",
        "print(response.text)"
      ]
    },
    {
      "cell_type": "code",
      "source": [
        "from google.colab import userdata\n",
        "import google.generativeai as genai\n",
        "\n",
        "genai.configure(api_key=userdata.get('GOOGLE_API_KEY'))"
      ],
      "metadata": {
        "id": "UUB1PaDKPS29"
      },
      "execution_count": null,
      "outputs": []
    },
    {
      "cell_type": "code",
      "source": [
        "model = genai.GenerativeModel(\"gemini-2.0-flash\")\n",
        "\n",
        "response = model.generate_content(\"Explain how AI works\")\n",
        "print(response.text)"
      ],
      "metadata": {
        "id": "8Ce26qk8QTAP"
      },
      "execution_count": null,
      "outputs": []
    },
    {
      "cell_type": "code",
      "source": [
        "generation_config = {\n",
        "    \"temperature\": 1,\n",
        "    \"max_output_tokens\": 1280\n",
        "}\n",
        "model = genai.GenerativeModel(\n",
        "    model_name=\"gemini-2.0-flash\",\n",
        "    generation_config=generation_config\n",
        ")"
      ],
      "metadata": {
        "id": "vMxWfU-lQ7is"
      },
      "execution_count": null,
      "outputs": []
    },
    {
      "cell_type": "markdown",
      "source": [
        "## Web Crawler"
      ],
      "metadata": {
        "id": "HCIE6XZ-0oI9"
      }
    },
    {
      "cell_type": "code",
      "source": [
        "import requests\n",
        "url = \"https://api.github.com\"\n",
        "response = requests.get(url)\n",
        "print(response.status_code)"
      ],
      "metadata": {
        "colab": {
          "base_uri": "https://localhost:8080/"
        },
        "id": "tRqFn8cc55iX",
        "outputId": "02bcca15-b187-4032-d906-ba6670bf2862"
      },
      "execution_count": null,
      "outputs": [
        {
          "output_type": "stream",
          "name": "stdout",
          "text": [
            "200\n"
          ]
        }
      ]
    },
    {
      "cell_type": "code",
      "source": [
        "response.text"
      ],
      "metadata": {
        "colab": {
          "base_uri": "https://localhost:8080/",
          "height": 122
        },
        "id": "VYb6GfPN6LaD",
        "outputId": "c95b65a5-cffa-4364-ffff-27f59598a979"
      },
      "execution_count": null,
      "outputs": [
        {
          "output_type": "execute_result",
          "data": {
            "text/plain": [
              "'{\"current_user_url\":\"https://api.github.com/user\",\"current_user_authorizations_html_url\":\"https://github.com/settings/connections/applications{/client_id}\",\"authorizations_url\":\"https://api.github.com/authorizations\",\"code_search_url\":\"https://api.github.com/search/code?q={query}{&page,per_page,sort,order}\",\"commit_search_url\":\"https://api.github.com/search/commits?q={query}{&page,per_page,sort,order}\",\"emails_url\":\"https://api.github.com/user/emails\",\"emojis_url\":\"https://api.github.com/emojis\",\"events_url\":\"https://api.github.com/events\",\"feeds_url\":\"https://api.github.com/feeds\",\"followers_url\":\"https://api.github.com/user/followers\",\"following_url\":\"https://api.github.com/user/following{/target}\",\"gists_url\":\"https://api.github.com/gists{/gist_id}\",\"hub_url\":\"https://api.github.com/hub\",\"issue_search_url\":\"https://api.github.com/search/issues?q={query}{&page,per_page,sort,order}\",\"issues_url\":\"https://api.github.com/issues\",\"keys_url\":\"https://api.github.com/user/keys\",\"label_search_url\":\"https://api.github.com/search/labels?q={query}&repository_id={repository_id}{&page,per_page}\",\"notifications_url\":\"https://api.github.com/notifications\",\"organization_url\":\"https://api.github.com/orgs/{org}\",\"organization_repositories_url\":\"https://api.github.com/orgs/{org}/repos{?type,page,per_page,sort}\",\"organization_teams_url\":\"https://api.github.com/orgs/{org}/teams\",\"public_gists_url\":\"https://api.github.com/gists/public\",\"rate_limit_url\":\"https://api.github.com/rate_limit\",\"repository_url\":\"https://api.github.com/repos/{owner}/{repo}\",\"repository_search_url\":\"https://api.github.com/search/repositories?q={query}{&page,per_page,sort,order}\",\"current_user_repositories_url\":\"https://api.github.com/user/repos{?type,page,per_page,sort}\",\"starred_url\":\"https://api.github.com/user/starred{/owner}{/repo}\",\"starred_gists_url\":\"https://api.github.com/gists/starred\",\"topic_search_url\":\"https://api.github.com/search/topics?q={query}{&page,per_page}\",\"user_url\":\"https://api.github.com/users/{user}\",\"user_organizations_url\":\"https://api.github.com/user/orgs\",\"user_repositories_url\":\"https://api.github.com/users/{user}/repos{?type,page,per_page,sort}\",\"user_search_url\":\"https://api.github.com/search/users?q={query}{&page,per_page,sort,order}\"}'"
            ],
            "application/vnd.google.colaboratory.intrinsic+json": {
              "type": "string"
            }
          },
          "metadata": {},
          "execution_count": 2
        }
      ]
    },
    {
      "cell_type": "code",
      "source": [
        "response.content"
      ],
      "metadata": {
        "colab": {
          "base_uri": "https://localhost:8080/"
        },
        "id": "nnl50F2Q6TpT",
        "outputId": "e4c44a39-cdf0-419f-d6b5-90ab4b3d1298"
      },
      "execution_count": null,
      "outputs": [
        {
          "output_type": "execute_result",
          "data": {
            "text/plain": [
              "b'{\"current_user_url\":\"https://api.github.com/user\",\"current_user_authorizations_html_url\":\"https://github.com/settings/connections/applications{/client_id}\",\"authorizations_url\":\"https://api.github.com/authorizations\",\"code_search_url\":\"https://api.github.com/search/code?q={query}{&page,per_page,sort,order}\",\"commit_search_url\":\"https://api.github.com/search/commits?q={query}{&page,per_page,sort,order}\",\"emails_url\":\"https://api.github.com/user/emails\",\"emojis_url\":\"https://api.github.com/emojis\",\"events_url\":\"https://api.github.com/events\",\"feeds_url\":\"https://api.github.com/feeds\",\"followers_url\":\"https://api.github.com/user/followers\",\"following_url\":\"https://api.github.com/user/following{/target}\",\"gists_url\":\"https://api.github.com/gists{/gist_id}\",\"hub_url\":\"https://api.github.com/hub\",\"issue_search_url\":\"https://api.github.com/search/issues?q={query}{&page,per_page,sort,order}\",\"issues_url\":\"https://api.github.com/issues\",\"keys_url\":\"https://api.github.com/user/keys\",\"label_search_url\":\"https://api.github.com/search/labels?q={query}&repository_id={repository_id}{&page,per_page}\",\"notifications_url\":\"https://api.github.com/notifications\",\"organization_url\":\"https://api.github.com/orgs/{org}\",\"organization_repositories_url\":\"https://api.github.com/orgs/{org}/repos{?type,page,per_page,sort}\",\"organization_teams_url\":\"https://api.github.com/orgs/{org}/teams\",\"public_gists_url\":\"https://api.github.com/gists/public\",\"rate_limit_url\":\"https://api.github.com/rate_limit\",\"repository_url\":\"https://api.github.com/repos/{owner}/{repo}\",\"repository_search_url\":\"https://api.github.com/search/repositories?q={query}{&page,per_page,sort,order}\",\"current_user_repositories_url\":\"https://api.github.com/user/repos{?type,page,per_page,sort}\",\"starred_url\":\"https://api.github.com/user/starred{/owner}{/repo}\",\"starred_gists_url\":\"https://api.github.com/gists/starred\",\"topic_search_url\":\"https://api.github.com/search/topics?q={query}{&page,per_page}\",\"user_url\":\"https://api.github.com/users/{user}\",\"user_organizations_url\":\"https://api.github.com/user/orgs\",\"user_repositories_url\":\"https://api.github.com/users/{user}/repos{?type,page,per_page,sort}\",\"user_search_url\":\"https://api.github.com/search/users?q={query}{&page,per_page,sort,order}\"}'"
            ]
          },
          "metadata": {},
          "execution_count": 3
        }
      ]
    },
    {
      "cell_type": "code",
      "source": [
        "# 使用 requests 下載 youtube 縮圖\n",
        "import requests\n",
        "url = 'https://img.youtube.com/vi/GeK5TmZTxXk/sddefault.jpg'\n",
        "r = requests.get(url)\n",
        "with open('/content/drive/MyDrive/img/f.jpg', 'wb') as f:\n",
        "    f.write(r.content)"
      ],
      "metadata": {
        "id": "6Jh78C887gnF"
      },
      "execution_count": null,
      "outputs": []
    },
    {
      "cell_type": "code",
      "source": [
        "# 使用 wget 下載 youtube 縮圖\n",
        "!wget -O s2.jpg {url}"
      ],
      "metadata": {
        "colab": {
          "base_uri": "https://localhost:8080/"
        },
        "id": "ag3GqkUk8E41",
        "outputId": "8f485ec3-c779-43d4-9262-3f2591466ea5"
      },
      "execution_count": null,
      "outputs": [
        {
          "output_type": "stream",
          "name": "stdout",
          "text": [
            "--2025-03-11 06:44:58--  https://img.youtube.com/vi/GeK5TmZTxXk/sddefault.jpg\n",
            "Resolving img.youtube.com (img.youtube.com)... 142.250.65.110, 172.217.15.238, 172.217.0.78, ...\n",
            "Connecting to img.youtube.com (img.youtube.com)|142.250.65.110|:443... connected.\n",
            "HTTP request sent, awaiting response... 200 OK\n",
            "Length: 15576 (15K) [image/jpeg]\n",
            "Saving to: ‘s2.jpg’\n",
            "\n",
            "\rs2.jpg                0%[                    ]       0  --.-KB/s               \rs2.jpg              100%[===================>]  15.21K  --.-KB/s    in 0s      \n",
            "\n",
            "2025-03-11 06:44:58 (43.0 MB/s) - ‘s2.jpg’ saved [15576/15576]\n",
            "\n"
          ]
        }
      ]
    },
    {
      "cell_type": "markdown",
      "source": [
        "## 爬取 json 資料"
      ],
      "metadata": {
        "id": "BTVp6mfOGlIm"
      }
    },
    {
      "cell_type": "code",
      "source": [
        "import json\n",
        "json_string = '{\"name\": \"Alice\", \"age\": 25, \"isStudent\": false}'\n",
        "# 將 JSON 字串轉換為 Python 字典\n",
        "data = json.loads(json_string)\n",
        "print(data)  # 輸出: Alice"
      ],
      "metadata": {
        "colab": {
          "base_uri": "https://localhost:8080/"
        },
        "id": "znjrv_h8AIEt",
        "outputId": "331f9470-2497-4315-b611-9f6713e18043"
      },
      "execution_count": null,
      "outputs": [
        {
          "output_type": "stream",
          "name": "stdout",
          "text": [
            "{'name': 'Alice', 'age': 25, 'isStudent': False}\n"
          ]
        }
      ]
    },
    {
      "cell_type": "code",
      "source": [
        "import json\n",
        "data = {\n",
        "    \"name\": \"Bob\",\n",
        "    \"age\": 30,\n",
        "    \"isStudent\": True\n",
        "}\n",
        "# 將資料轉換為 JSON 字串\n",
        "json_string = json.dumps(data, indent=4)\n",
        "print(json_string)"
      ],
      "metadata": {
        "colab": {
          "base_uri": "https://localhost:8080/"
        },
        "id": "WI5DaimkAYhz",
        "outputId": "df1f36ce-655f-40a8-83af-b9e03948044f"
      },
      "execution_count": null,
      "outputs": [
        {
          "output_type": "stream",
          "name": "stdout",
          "text": [
            "{\n",
            "    \"name\": \"Bob\",\n",
            "    \"age\": 30,\n",
            "    \"isStudent\": true\n",
            "}\n"
          ]
        }
      ]
    },
    {
      "cell_type": "code",
      "source": [
        "import requests\n",
        "url = 'https://www.ris.gov.tw/rs-opendata/api/v1/datastore/ODRP048/113'\n",
        "response = requests.get(url)\n",
        "response.status_code"
      ],
      "metadata": {
        "colab": {
          "base_uri": "https://localhost:8080/"
        },
        "id": "E00FtSh_Ddps",
        "outputId": "04aaea28-14d6-4f2d-f4cf-84ae8d48b9a9"
      },
      "execution_count": null,
      "outputs": [
        {
          "output_type": "execute_result",
          "data": {
            "text/plain": [
              "200"
            ]
          },
          "metadata": {},
          "execution_count": 16
        }
      ]
    },
    {
      "cell_type": "code",
      "source": [
        "# 使用 response.json() 解析 json 出錯\n",
        "rsp = response.json()"
      ],
      "metadata": {
        "colab": {
          "base_uri": "https://localhost:8080/",
          "height": 408
        },
        "id": "AWDU86ucDpID",
        "outputId": "4048b5d7-c417-4c8e-f864-b92e95021486"
      },
      "execution_count": null,
      "outputs": [
        {
          "output_type": "error",
          "ename": "JSONDecodeError",
          "evalue": "Expecting ',' delimiter: line 9 column 1 (char 40914)",
          "traceback": [
            "\u001b[0;31m---------------------------------------------------------------------------\u001b[0m",
            "\u001b[0;31mJSONDecodeError\u001b[0m                           Traceback (most recent call last)",
            "\u001b[0;32m/usr/local/lib/python3.11/dist-packages/requests/models.py\u001b[0m in \u001b[0;36mjson\u001b[0;34m(self, **kwargs)\u001b[0m\n\u001b[1;32m    973\u001b[0m         \u001b[0;32mtry\u001b[0m\u001b[0;34m:\u001b[0m\u001b[0;34m\u001b[0m\u001b[0;34m\u001b[0m\u001b[0m\n\u001b[0;32m--> 974\u001b[0;31m             \u001b[0;32mreturn\u001b[0m \u001b[0mcomplexjson\u001b[0m\u001b[0;34m.\u001b[0m\u001b[0mloads\u001b[0m\u001b[0;34m(\u001b[0m\u001b[0mself\u001b[0m\u001b[0;34m.\u001b[0m\u001b[0mtext\u001b[0m\u001b[0;34m,\u001b[0m \u001b[0;34m**\u001b[0m\u001b[0mkwargs\u001b[0m\u001b[0;34m)\u001b[0m\u001b[0;34m\u001b[0m\u001b[0;34m\u001b[0m\u001b[0m\n\u001b[0m\u001b[1;32m    975\u001b[0m         \u001b[0;32mexcept\u001b[0m \u001b[0mJSONDecodeError\u001b[0m \u001b[0;32mas\u001b[0m \u001b[0me\u001b[0m\u001b[0;34m:\u001b[0m\u001b[0;34m\u001b[0m\u001b[0;34m\u001b[0m\u001b[0m\n",
            "\u001b[0;32m/usr/lib/python3.11/json/__init__.py\u001b[0m in \u001b[0;36mloads\u001b[0;34m(s, cls, object_hook, parse_float, parse_int, parse_constant, object_pairs_hook, **kw)\u001b[0m\n\u001b[1;32m    345\u001b[0m             parse_constant is None and object_pairs_hook is None and not kw):\n\u001b[0;32m--> 346\u001b[0;31m         \u001b[0;32mreturn\u001b[0m \u001b[0m_default_decoder\u001b[0m\u001b[0;34m.\u001b[0m\u001b[0mdecode\u001b[0m\u001b[0;34m(\u001b[0m\u001b[0ms\u001b[0m\u001b[0;34m)\u001b[0m\u001b[0;34m\u001b[0m\u001b[0;34m\u001b[0m\u001b[0m\n\u001b[0m\u001b[1;32m    347\u001b[0m     \u001b[0;32mif\u001b[0m \u001b[0mcls\u001b[0m \u001b[0;32mis\u001b[0m \u001b[0;32mNone\u001b[0m\u001b[0;34m:\u001b[0m\u001b[0;34m\u001b[0m\u001b[0;34m\u001b[0m\u001b[0m\n",
            "\u001b[0;32m/usr/lib/python3.11/json/decoder.py\u001b[0m in \u001b[0;36mdecode\u001b[0;34m(self, s, _w)\u001b[0m\n\u001b[1;32m    336\u001b[0m         \"\"\"\n\u001b[0;32m--> 337\u001b[0;31m         \u001b[0mobj\u001b[0m\u001b[0;34m,\u001b[0m \u001b[0mend\u001b[0m \u001b[0;34m=\u001b[0m \u001b[0mself\u001b[0m\u001b[0;34m.\u001b[0m\u001b[0mraw_decode\u001b[0m\u001b[0;34m(\u001b[0m\u001b[0ms\u001b[0m\u001b[0;34m,\u001b[0m \u001b[0midx\u001b[0m\u001b[0;34m=\u001b[0m\u001b[0m_w\u001b[0m\u001b[0;34m(\u001b[0m\u001b[0ms\u001b[0m\u001b[0;34m,\u001b[0m \u001b[0;36m0\u001b[0m\u001b[0;34m)\u001b[0m\u001b[0;34m.\u001b[0m\u001b[0mend\u001b[0m\u001b[0;34m(\u001b[0m\u001b[0;34m)\u001b[0m\u001b[0;34m)\u001b[0m\u001b[0;34m\u001b[0m\u001b[0;34m\u001b[0m\u001b[0m\n\u001b[0m\u001b[1;32m    338\u001b[0m         \u001b[0mend\u001b[0m \u001b[0;34m=\u001b[0m \u001b[0m_w\u001b[0m\u001b[0;34m(\u001b[0m\u001b[0ms\u001b[0m\u001b[0;34m,\u001b[0m \u001b[0mend\u001b[0m\u001b[0;34m)\u001b[0m\u001b[0;34m.\u001b[0m\u001b[0mend\u001b[0m\u001b[0;34m(\u001b[0m\u001b[0;34m)\u001b[0m\u001b[0;34m\u001b[0m\u001b[0;34m\u001b[0m\u001b[0m\n",
            "\u001b[0;32m/usr/lib/python3.11/json/decoder.py\u001b[0m in \u001b[0;36mraw_decode\u001b[0;34m(self, s, idx)\u001b[0m\n\u001b[1;32m    352\u001b[0m         \u001b[0;32mtry\u001b[0m\u001b[0;34m:\u001b[0m\u001b[0;34m\u001b[0m\u001b[0;34m\u001b[0m\u001b[0m\n\u001b[0;32m--> 353\u001b[0;31m             \u001b[0mobj\u001b[0m\u001b[0;34m,\u001b[0m \u001b[0mend\u001b[0m \u001b[0;34m=\u001b[0m \u001b[0mself\u001b[0m\u001b[0;34m.\u001b[0m\u001b[0mscan_once\u001b[0m\u001b[0;34m(\u001b[0m\u001b[0ms\u001b[0m\u001b[0;34m,\u001b[0m \u001b[0midx\u001b[0m\u001b[0;34m)\u001b[0m\u001b[0;34m\u001b[0m\u001b[0;34m\u001b[0m\u001b[0m\n\u001b[0m\u001b[1;32m    354\u001b[0m         \u001b[0;32mexcept\u001b[0m \u001b[0mStopIteration\u001b[0m \u001b[0;32mas\u001b[0m \u001b[0merr\u001b[0m\u001b[0;34m:\u001b[0m\u001b[0;34m\u001b[0m\u001b[0;34m\u001b[0m\u001b[0m\n",
            "\u001b[0;31mJSONDecodeError\u001b[0m: Expecting ',' delimiter: line 9 column 1 (char 40914)",
            "\nDuring handling of the above exception, another exception occurred:\n",
            "\u001b[0;31mJSONDecodeError\u001b[0m                           Traceback (most recent call last)",
            "\u001b[0;32m<ipython-input-17-f14748680fe6>\u001b[0m in \u001b[0;36m<cell line: 0>\u001b[0;34m()\u001b[0m\n\u001b[0;32m----> 1\u001b[0;31m \u001b[0mrsp\u001b[0m \u001b[0;34m=\u001b[0m \u001b[0mresponse\u001b[0m\u001b[0;34m.\u001b[0m\u001b[0mjson\u001b[0m\u001b[0;34m(\u001b[0m\u001b[0;34m)\u001b[0m\u001b[0;34m\u001b[0m\u001b[0;34m\u001b[0m\u001b[0m\n\u001b[0m",
            "\u001b[0;32m/usr/local/lib/python3.11/dist-packages/requests/models.py\u001b[0m in \u001b[0;36mjson\u001b[0;34m(self, **kwargs)\u001b[0m\n\u001b[1;32m    976\u001b[0m             \u001b[0;31m# Catch JSON-related errors and raise as requests.JSONDecodeError\u001b[0m\u001b[0;34m\u001b[0m\u001b[0;34m\u001b[0m\u001b[0m\n\u001b[1;32m    977\u001b[0m             \u001b[0;31m# This aliases json.JSONDecodeError and simplejson.JSONDecodeError\u001b[0m\u001b[0;34m\u001b[0m\u001b[0;34m\u001b[0m\u001b[0m\n\u001b[0;32m--> 978\u001b[0;31m             \u001b[0;32mraise\u001b[0m \u001b[0mRequestsJSONDecodeError\u001b[0m\u001b[0;34m(\u001b[0m\u001b[0me\u001b[0m\u001b[0;34m.\u001b[0m\u001b[0mmsg\u001b[0m\u001b[0;34m,\u001b[0m \u001b[0me\u001b[0m\u001b[0;34m.\u001b[0m\u001b[0mdoc\u001b[0m\u001b[0;34m,\u001b[0m \u001b[0me\u001b[0m\u001b[0;34m.\u001b[0m\u001b[0mpos\u001b[0m\u001b[0;34m)\u001b[0m\u001b[0;34m\u001b[0m\u001b[0;34m\u001b[0m\u001b[0m\n\u001b[0m\u001b[1;32m    979\u001b[0m \u001b[0;34m\u001b[0m\u001b[0m\n\u001b[1;32m    980\u001b[0m     \u001b[0;34m@\u001b[0m\u001b[0mproperty\u001b[0m\u001b[0;34m\u001b[0m\u001b[0;34m\u001b[0m\u001b[0m\n",
            "\u001b[0;31mJSONDecodeError\u001b[0m: Expecting ',' delimiter: line 9 column 1 (char 40914)"
          ]
        }
      ]
    },
    {
      "cell_type": "code",
      "source": [
        "# 使用 json 解析 requests 結果也出現\n",
        "import json\n",
        "rsp = json.loads(response.text)"
      ],
      "metadata": {
        "colab": {
          "base_uri": "https://localhost:8080/",
          "height": 304
        },
        "id": "MLGHCCeHEIJI",
        "outputId": "8c42eeeb-a62d-4e32-9b58-963b263d7244"
      },
      "execution_count": null,
      "outputs": [
        {
          "output_type": "error",
          "ename": "JSONDecodeError",
          "evalue": "Expecting ',' delimiter: line 9 column 1 (char 40914)",
          "traceback": [
            "\u001b[0;31m---------------------------------------------------------------------------\u001b[0m",
            "\u001b[0;31mJSONDecodeError\u001b[0m                           Traceback (most recent call last)",
            "\u001b[0;32m<ipython-input-18-454421ecf635>\u001b[0m in \u001b[0;36m<cell line: 0>\u001b[0;34m()\u001b[0m\n\u001b[1;32m      1\u001b[0m \u001b[0;32mimport\u001b[0m \u001b[0mjson\u001b[0m\u001b[0;34m\u001b[0m\u001b[0;34m\u001b[0m\u001b[0m\n\u001b[0;32m----> 2\u001b[0;31m \u001b[0mrsp\u001b[0m \u001b[0;34m=\u001b[0m \u001b[0mjson\u001b[0m\u001b[0;34m.\u001b[0m\u001b[0mloads\u001b[0m\u001b[0;34m(\u001b[0m\u001b[0mresponse\u001b[0m\u001b[0;34m.\u001b[0m\u001b[0mtext\u001b[0m\u001b[0;34m)\u001b[0m\u001b[0;34m\u001b[0m\u001b[0;34m\u001b[0m\u001b[0m\n\u001b[0m",
            "\u001b[0;32m/usr/lib/python3.11/json/__init__.py\u001b[0m in \u001b[0;36mloads\u001b[0;34m(s, cls, object_hook, parse_float, parse_int, parse_constant, object_pairs_hook, **kw)\u001b[0m\n\u001b[1;32m    344\u001b[0m             \u001b[0mparse_int\u001b[0m \u001b[0;32mis\u001b[0m \u001b[0;32mNone\u001b[0m \u001b[0;32mand\u001b[0m \u001b[0mparse_float\u001b[0m \u001b[0;32mis\u001b[0m \u001b[0;32mNone\u001b[0m \u001b[0;32mand\u001b[0m\u001b[0;34m\u001b[0m\u001b[0;34m\u001b[0m\u001b[0m\n\u001b[1;32m    345\u001b[0m             parse_constant is None and object_pairs_hook is None and not kw):\n\u001b[0;32m--> 346\u001b[0;31m         \u001b[0;32mreturn\u001b[0m \u001b[0m_default_decoder\u001b[0m\u001b[0;34m.\u001b[0m\u001b[0mdecode\u001b[0m\u001b[0;34m(\u001b[0m\u001b[0ms\u001b[0m\u001b[0;34m)\u001b[0m\u001b[0;34m\u001b[0m\u001b[0;34m\u001b[0m\u001b[0m\n\u001b[0m\u001b[1;32m    347\u001b[0m     \u001b[0;32mif\u001b[0m \u001b[0mcls\u001b[0m \u001b[0;32mis\u001b[0m \u001b[0;32mNone\u001b[0m\u001b[0;34m:\u001b[0m\u001b[0;34m\u001b[0m\u001b[0;34m\u001b[0m\u001b[0m\n\u001b[1;32m    348\u001b[0m         \u001b[0mcls\u001b[0m \u001b[0;34m=\u001b[0m \u001b[0mJSONDecoder\u001b[0m\u001b[0;34m\u001b[0m\u001b[0;34m\u001b[0m\u001b[0m\n",
            "\u001b[0;32m/usr/lib/python3.11/json/decoder.py\u001b[0m in \u001b[0;36mdecode\u001b[0;34m(self, s, _w)\u001b[0m\n\u001b[1;32m    335\u001b[0m \u001b[0;34m\u001b[0m\u001b[0m\n\u001b[1;32m    336\u001b[0m         \"\"\"\n\u001b[0;32m--> 337\u001b[0;31m         \u001b[0mobj\u001b[0m\u001b[0;34m,\u001b[0m \u001b[0mend\u001b[0m \u001b[0;34m=\u001b[0m \u001b[0mself\u001b[0m\u001b[0;34m.\u001b[0m\u001b[0mraw_decode\u001b[0m\u001b[0;34m(\u001b[0m\u001b[0ms\u001b[0m\u001b[0;34m,\u001b[0m \u001b[0midx\u001b[0m\u001b[0;34m=\u001b[0m\u001b[0m_w\u001b[0m\u001b[0;34m(\u001b[0m\u001b[0ms\u001b[0m\u001b[0;34m,\u001b[0m \u001b[0;36m0\u001b[0m\u001b[0;34m)\u001b[0m\u001b[0;34m.\u001b[0m\u001b[0mend\u001b[0m\u001b[0;34m(\u001b[0m\u001b[0;34m)\u001b[0m\u001b[0;34m)\u001b[0m\u001b[0;34m\u001b[0m\u001b[0;34m\u001b[0m\u001b[0m\n\u001b[0m\u001b[1;32m    338\u001b[0m         \u001b[0mend\u001b[0m \u001b[0;34m=\u001b[0m \u001b[0m_w\u001b[0m\u001b[0;34m(\u001b[0m\u001b[0ms\u001b[0m\u001b[0;34m,\u001b[0m \u001b[0mend\u001b[0m\u001b[0;34m)\u001b[0m\u001b[0;34m.\u001b[0m\u001b[0mend\u001b[0m\u001b[0;34m(\u001b[0m\u001b[0;34m)\u001b[0m\u001b[0;34m\u001b[0m\u001b[0;34m\u001b[0m\u001b[0m\n\u001b[1;32m    339\u001b[0m         \u001b[0;32mif\u001b[0m \u001b[0mend\u001b[0m \u001b[0;34m!=\u001b[0m \u001b[0mlen\u001b[0m\u001b[0;34m(\u001b[0m\u001b[0ms\u001b[0m\u001b[0;34m)\u001b[0m\u001b[0;34m:\u001b[0m\u001b[0;34m\u001b[0m\u001b[0;34m\u001b[0m\u001b[0m\n",
            "\u001b[0;32m/usr/lib/python3.11/json/decoder.py\u001b[0m in \u001b[0;36mraw_decode\u001b[0;34m(self, s, idx)\u001b[0m\n\u001b[1;32m    351\u001b[0m         \"\"\"\n\u001b[1;32m    352\u001b[0m         \u001b[0;32mtry\u001b[0m\u001b[0;34m:\u001b[0m\u001b[0;34m\u001b[0m\u001b[0;34m\u001b[0m\u001b[0m\n\u001b[0;32m--> 353\u001b[0;31m             \u001b[0mobj\u001b[0m\u001b[0;34m,\u001b[0m \u001b[0mend\u001b[0m \u001b[0;34m=\u001b[0m \u001b[0mself\u001b[0m\u001b[0;34m.\u001b[0m\u001b[0mscan_once\u001b[0m\u001b[0;34m(\u001b[0m\u001b[0ms\u001b[0m\u001b[0;34m,\u001b[0m \u001b[0midx\u001b[0m\u001b[0;34m)\u001b[0m\u001b[0;34m\u001b[0m\u001b[0;34m\u001b[0m\u001b[0m\n\u001b[0m\u001b[1;32m    354\u001b[0m         \u001b[0;32mexcept\u001b[0m \u001b[0mStopIteration\u001b[0m \u001b[0;32mas\u001b[0m \u001b[0merr\u001b[0m\u001b[0;34m:\u001b[0m\u001b[0;34m\u001b[0m\u001b[0;34m\u001b[0m\u001b[0m\n\u001b[1;32m    355\u001b[0m             \u001b[0;32mraise\u001b[0m \u001b[0mJSONDecodeError\u001b[0m\u001b[0;34m(\u001b[0m\u001b[0;34m\"Expecting value\"\u001b[0m\u001b[0;34m,\u001b[0m \u001b[0ms\u001b[0m\u001b[0;34m,\u001b[0m \u001b[0merr\u001b[0m\u001b[0;34m.\u001b[0m\u001b[0mvalue\u001b[0m\u001b[0;34m)\u001b[0m \u001b[0;32mfrom\u001b[0m \u001b[0;32mNone\u001b[0m\u001b[0;34m\u001b[0m\u001b[0;34m\u001b[0m\u001b[0m\n",
            "\u001b[0;31mJSONDecodeError\u001b[0m: Expecting ',' delimiter: line 9 column 1 (char 40914)"
          ]
        }
      ]
    },
    {
      "cell_type": "code",
      "source": [
        "response.text[-2]"
      ],
      "metadata": {
        "colab": {
          "base_uri": "https://localhost:8080/",
          "height": 35
        },
        "id": "uZtSA17dEhcd",
        "outputId": "5e144e2e-dd37-486c-e33e-c17a1a127685"
      },
      "execution_count": null,
      "outputs": [
        {
          "output_type": "execute_result",
          "data": {
            "text/plain": [
              "'}'"
            ],
            "application/vnd.google.colaboratory.intrinsic+json": {
              "type": "string"
            }
          },
          "metadata": {},
          "execution_count": 19
        }
      ]
    },
    {
      "cell_type": "code",
      "source": [
        "# 補上缺失的 ] 符號\n",
        "rsp = response.text[0:-2]+']}'"
      ],
      "metadata": {
        "id": "Or9oG7iNEwYE"
      },
      "execution_count": null,
      "outputs": []
    },
    {
      "cell_type": "code",
      "source": [
        "dt = json.loads(rsp)\n",
        "dt"
      ],
      "metadata": {
        "id": "CjL_LiTTFBEi"
      },
      "execution_count": null,
      "outputs": []
    },
    {
      "cell_type": "code",
      "source": [
        "len(dt['responseData'])"
      ],
      "metadata": {
        "colab": {
          "base_uri": "https://localhost:8080/"
        },
        "id": "lOFbj15BFO8g",
        "outputId": "c891eaa5-71e4-4b0d-e765-d1bcb9f98b54"
      },
      "execution_count": null,
      "outputs": [
        {
          "output_type": "execute_result",
          "data": {
            "text/plain": [
              "370"
            ]
          },
          "metadata": {},
          "execution_count": 23
        }
      ]
    },
    {
      "cell_type": "code",
      "source": [
        "# 查看各區人口密度\n",
        "dt['responseData'][0]"
      ],
      "metadata": {
        "colab": {
          "base_uri": "https://localhost:8080/"
        },
        "id": "z7T5E6xMFkyJ",
        "outputId": "b0b3a4de-ffda-4758-f462-1bf44c4d1172"
      },
      "execution_count": null,
      "outputs": [
        {
          "output_type": "execute_result",
          "data": {
            "text/plain": [
              "{'statistic_yyy': '113',\n",
              " 'site_id': '新北市板橋區',\n",
              " 'people_total': '553538',\n",
              " 'area': '23.1373',\n",
              " 'population_density': '23924'}"
            ]
          },
          "metadata": {},
          "execution_count": 24
        }
      ]
    },
    {
      "cell_type": "markdown",
      "source": [
        "## 寫入和讀取 csv 檔"
      ],
      "metadata": {
        "id": "19hJ7rRXGrbm"
      }
    },
    {
      "cell_type": "code",
      "source": [
        "# 使用 csv 模組將 dict 資料輸出成 csv 檔\n",
        "import csv\n",
        "data = [\n",
        "    {\"Name\": \"Alice\", \"Age\": 25, \"City\": \"New York\"},\n",
        "    {\"Name\": \"Bob\", \"Age\": 30, \"City\": \"Los Angeles\"}\n",
        "]\n",
        "\n",
        "wtr = []\n",
        "wtr.append(list(data[0].keys()))\n",
        "\n",
        "for it in data:\n",
        "    wtr.append(list(it.values()))\n",
        "\n",
        "with open('data.csv', 'w', newline='') as f:\n",
        "    writer = csv.writer(f)\n",
        "    writer.writerows(wtr)\n"
      ],
      "metadata": {
        "id": "UYRuJTKlHKOZ"
      },
      "execution_count": null,
      "outputs": []
    },
    {
      "cell_type": "code",
      "source": [
        "# 使用 csv 模組讀入 csv 檔\n",
        "import csv\n",
        "\n",
        "with open(\"data.csv\", \"r\") as file:\n",
        "    reader = csv.reader(file)\n",
        "    data = list(reader)\n",
        "print(data)"
      ],
      "metadata": {
        "colab": {
          "base_uri": "https://localhost:8080/"
        },
        "id": "rA_gELTcJWDl",
        "outputId": "91916422-25cd-45d7-8987-0172e90bd81a"
      },
      "execution_count": null,
      "outputs": [
        {
          "output_type": "stream",
          "name": "stdout",
          "text": [
            "[['Name', 'Age', 'City'], ['Alice', '25', 'New York'], ['Bob', '30', 'Los Angeles']]\n"
          ]
        }
      ]
    },
    {
      "cell_type": "code",
      "source": [
        "# prompt: 使用 csv 模組將 dict 資料輸出成 csv 檔\n",
        "\n",
        "import csv\n",
        "\n",
        "data = [\n",
        "    {\"Name\": \"Alice\", \"Age\": 25, \"City\": \"New York\"},\n",
        "    {\"Name\": \"Bob\", \"Age\": 30, \"City\": \"Los Angeles\"}\n",
        "]\n",
        "\n",
        "with open('output.csv', 'w', newline='', encoding='utf-8') as csvfile:\n",
        "    fieldnames = data[0].keys()\n",
        "    writer = csv.DictWriter(csvfile, fieldnames=fieldnames)\n",
        "\n",
        "    writer.writeheader()\n",
        "    writer.writerows(data)\n"
      ],
      "metadata": {
        "id": "HD2mUHkM6eR5"
      },
      "execution_count": null,
      "outputs": []
    },
    {
      "cell_type": "markdown",
      "source": [
        "## XML"
      ],
      "metadata": {
        "id": "LU1DcajA8XJp"
      }
    },
    {
      "cell_type": "code",
      "source": [
        "!pip install feedparser"
      ],
      "metadata": {
        "colab": {
          "base_uri": "https://localhost:8080/"
        },
        "id": "KB2gvpVs8VLW",
        "outputId": "b890a2f9-9316-487e-cac3-9b5e9f12e693"
      },
      "execution_count": null,
      "outputs": [
        {
          "output_type": "stream",
          "name": "stdout",
          "text": [
            "Collecting feedparser\n",
            "  Downloading feedparser-6.0.11-py3-none-any.whl.metadata (2.4 kB)\n",
            "Collecting sgmllib3k (from feedparser)\n",
            "  Downloading sgmllib3k-1.0.0.tar.gz (5.8 kB)\n",
            "  Preparing metadata (setup.py) ... \u001b[?25l\u001b[?25hdone\n",
            "Downloading feedparser-6.0.11-py3-none-any.whl (81 kB)\n",
            "\u001b[2K   \u001b[90m━━━━━━━━━━━━━━━━━━━━━━━━━━━━━━━━━━━━━━━━\u001b[0m \u001b[32m81.3/81.3 kB\u001b[0m \u001b[31m2.0 MB/s\u001b[0m eta \u001b[36m0:00:00\u001b[0m\n",
            "\u001b[?25hBuilding wheels for collected packages: sgmllib3k\n",
            "  Building wheel for sgmllib3k (setup.py) ... \u001b[?25l\u001b[?25hdone\n",
            "  Created wheel for sgmllib3k: filename=sgmllib3k-1.0.0-py3-none-any.whl size=6047 sha256=98f9cc3bdca742a4dd38df5cff382f66d9408df2d654b3b0de2dbd7474eb3318\n",
            "  Stored in directory: /root/.cache/pip/wheels/3b/25/2a/105d6a15df6914f4d15047691c6c28f9052cc1173e40285d03\n",
            "Successfully built sgmllib3k\n",
            "Installing collected packages: sgmllib3k, feedparser\n",
            "Successfully installed feedparser-6.0.11 sgmllib3k-1.0.0\n"
          ]
        }
      ]
    },
    {
      "cell_type": "code",
      "source": [
        "import feedparser\n",
        "feed_url = \"https://news.pts.org.tw/xml/newsfeed.xml\"\n",
        "feed_data = feedparser.parse(feed_url)"
      ],
      "metadata": {
        "id": "Ni911oNd8ro0"
      },
      "execution_count": null,
      "outputs": []
    },
    {
      "cell_type": "code",
      "source": [
        "\n",
        "for entry in feed_data.entries:\n",
        "    print(entry.title)\n",
        "    print(entry.summary)\n",
        "    print(entry.link)\n",
        "    print(\"---\")"
      ],
      "metadata": {
        "colab": {
          "base_uri": "https://localhost:8080/"
        },
        "id": "Rj1kqiuv85Qf",
        "outputId": "252fbf9e-4cc2-473d-f05e-a0a57aa385cf"
      },
      "execution_count": null,
      "outputs": [
        {
          "output_type": "stream",
          "name": "stdout",
          "text": [
            "冷氣團發威多處高山降雪 福壽山農場天池積雪達10公分\n",
            "冷氣團發威，氣象署持續發布低溫特報，今（18）日清晨本島最低溫在苗栗大河8.9℃，包括拉拉山、太平山、合歡山、台東嘉明湖等高山也因為低溫加上水氣充足，一早就出現雪白美景，而受到降雪影響，新竹尖石鄉新光國小宣布停班停課一天。\n",
            "https://news.pts.org.tw/article/742669\n",
            "---\n",
            "北市比特犬兩度咬傷人 產發局：將檢討程序\n",
            "北市文山區6日才發生比特犬跳出車窗外咬傷人的事件，沒想到17日同隻比特犬又在大安區咬人。外界質疑動保處在第一次咬傷人時遲未對飼主開罰，直到昨（17）日才祭出重罰。對此產發局表示已重新檢討程序，務必要在最短時間做出明確處置。市長蔣萬安也下令，要求動保處一定要對飼養比特犬飼主加強安全教育及安全措施。\n",
            "https://news.pts.org.tw/article/742668\n",
            "---\n",
            "台中男子酒駕衝撞人行道 撞破護欄後墜落大排\n",
            "這個（3）月初台中市發生酒駕闖紅燈，造成一名男大生遭撞死亡，台中警方因此舉行3天的酒駕大執法。但今（18）日凌晨再度發生酒駕肇事，一輛轎車高速衝撞人行道後撞破護欄直接掉落麻園頭溪大排，駕駛肋骨骨折受困車內，由消防人員救出送醫。\n",
            "https://news.pts.org.tw/article/742667\n",
            "---\n",
            "刑事局破最大Switch改機案 侵權市值逾1億任天堂提告\n",
            "刑事局偵破全台最大任天堂Switch遊戲機改機案，一名46歲陳姓犯嫌透過網路購買的改機晶片，在臉書推銷改機服務，每台6000到8000元不等，改機後就能讓買家免費下載上萬種遊戲。目前已售出850台改裝機、獲利480萬元，但侵權市值超過1億元，後續依涉犯《著作權法》移送法辦。\n",
            "https://news.pts.org.tw/article/742665\n",
            "---\n",
            "警察抖音自稱中國人、愛祖國 桃園中壢分局稱將嚴查究責\n",
            "中國籍配偶亞亞長期公開發表「武統台灣」、「兩岸統一」等言論，遭移民署廢止依親居留許可、限期離境，陸委會也重申不再讓藝人藉台灣身分混淆視聽或對台統戰。現在又傳出有員警在抖音用簡體字註冊帳號，並自我介紹「我是中國人」，引發熱議，中壢分局表示將嚴查到底，若涉不法將依法究辦。\n",
            "https://news.pts.org.tw/article/742663\n",
            "---\n",
            "國台辦稱富察2/17上海「公開受審」 陸委會批黑箱作業\n",
            "中國國台辦對外聲稱，遭拘捕的八旗文化總編輯富察，已經在2月17日於上海「公開受審」，但陸委會嚴正批評整個審判其實都是秘密進行、黑箱作業，外界根本無從得知雙方答辯的相關資訊，強調中國對於當事人的司法人權都是謊言，也藉此再度提醒民眾赴中有一定風險。\n",
            "https://news.pts.org.tw/article/742662\n",
            "---\n",
            "俄烏戰爭／川蒲今將通話談臨時停火 烏方：領土等3方面不讓步\n",
            "美國總統川普（Donald Trump）預計台北時間今（18）日晚上與俄羅斯總統蒲亭（Vladimir Putin）針對俄烏戰爭的臨時停火協議通話。根據路透社等媒體，川普認為蒲亭可能接受為期30天的停火期。不過烏克蘭方面相當質疑，並劃出了3道「非常堅定」的紅線，表明不會在領土、北約與縮減防禦這3件事情上讓步。同時，烏軍占領的俄國庫斯克地區近來正遭遇俄軍大反攻，陷入激戰，因此俄國這幾天不斷將當地居民撤往安全地帶。\n",
            "https://news.pts.org.tw/article/742661\n",
            "---\n",
            "總預算案覆議案遭立院否決 監察院開第一槍聲請釋憲\n",
            "總預算案覆議案被立法院會否決，監察院今（18）日開第一槍，正式宣布聲請釋憲跟暫時處分，重申監院是最大受災戶，業務費幾乎被刪光，影響運作。先前就表示會尋求合法合憲救濟的行政院長卓榮泰，今日並未表態是否跟進監院，卓榮泰強調下鄉宣講是向國人說明政策，要彌補在國會不夠時間說清楚的情況。\n",
            "https://news.pts.org.tw/article/742660\n",
            "---\n",
            "經部估菲律賓種電成本每度5.5元 郭智輝：仍然可行將實地考察\n",
            "經濟部長郭智輝去（2024）年提出「在菲律賓種綠電，再輸回台灣」的供電計畫，引發各界反彈，經濟部的評估報告日前出爐，每度電運輸成本高達5.5元，等於宣告目前該計畫難以執行。不過郭智輝今日在立法院詢答時強調，預估3年後價格會大幅下降，到菲律賓種電或設置風電設施還是可以做的，接下來經濟部會去實地考察。\n",
            "https://news.pts.org.tw/article/742659\n",
            "---\n",
            "焚化爐適用促參條例與補貼 環團批不利推動循環經濟\n",
            "要解決地方的垃圾問題，部分縣市規劃新建焚化爐。不過環保團體指出，焚化爐會產生空污與底渣影響健康與環境，但政府還給予稅賦減免與補貼，適用促參條例，認為這樣不公不義，上午來到行政院前請願。\n",
            "https://news.pts.org.tw/article/742658\n",
            "---\n",
            "雲林提每月加薪3千元等3計畫 盼護理人才留任\n",
            "為提升雲林縣護理人力，雲林縣衛生局研擬提出3個因應計畫，包括3年3億333元護理人力留任、5年8000萬元，深耕100位公費護理師培育及5400萬元護理友善職場計畫，目前正與縣內幾間醫院討論中，而經費來源及實施辦法仍在規劃，未來需送議會審議通過，預計最快明（2026）年能上路。\n",
            "https://news.pts.org.tw/article/742657\n",
            "---\n",
            "破獲銀聯卡洗錢案 調查局：兩岸共打重大成果\n",
            "國內有詐騙集團涉嫌勾結對岸不法組織，竊取中國人的銀聯卡在台盜刷黃金、珠寶，更購入手機變賣洗錢，檢方初估至少70人受害，損失超過2億。檢方抓到多名國內嫌犯，而這也是我國執法單位近年罕見藉由兩岸共打機制，成功協調向中國公安部門取得全案包含被害人證述等相關資料。\n",
            "https://news.pts.org.tw/article/742656\n",
            "---\n",
            "共軍昨2度發動聯合戰備警巡 國軍出動戰機、軍艦應處\n",
            "中共升高台海情勢緊張，昨（17）日罕見發動2次聯合戰備警巡，出動59架次共機加上共艦9艘，對台形成包圍網，國軍出動戰機、軍艦應處，也發布跟監共軍的影像。對於中國外交部間接宣布共軍在台海軍演，國防部長顧立雄今日表示國軍掌握的是聯合戰備警巡，雙方說法不同調。\n",
            "https://news.pts.org.tw/article/742655\n",
            "---\n",
            "接見2024年中職總冠軍 賴清德恭賀勉勵中信兄弟\n",
            "2024年中信兄弟中職台灣大賽以4勝1敗戰績，擊敗統一獅拿下隊史上的第10座總冠軍，已追平統一獅締造的中職最多冠軍紀錄。總統賴清德和副總統蕭美琴上午在總統府接見中信兄弟團隊，表達恭喜和勉勵。\n",
            "https://news.pts.org.tw/article/742654\n",
            "---\n",
            "台灣金聯平價住宅今年增至百件 受信用管制影響市場觀望氣氛濃\n",
            "台灣金聯每年都會推出平價住宅，今（2025）年銷售物件從去年88件增加到100件，每坪平均單價則相較去年同區段實價登錄平均降低8%，且這次在六都物件比例提高到84%，如果是小資族能選擇不到千萬的物件。只是受到央行第7波信用管制影響，市場觀望氣氛濃厚，預期不只投資客退場，今年申購狀況恐持平或微幅下滑。\n",
            "https://news.pts.org.tw/article/742653\n",
            "---\n",
            "台南學童集體橫越馬路 校方：為補習班業者所為非導護\n",
            "台南市新市區的新市國小附近，近期有民眾拍下學童集體橫越馬路，十分危險。對此校方回應是附近補習班業者帶學童到班的過程，會加強和業者溝通。\n",
            "https://news.pts.org.tw/article/742652\n",
            "---\n",
            "高雄金獅湖市場攤販違規擺攤 住戶機車被從車格中移走\n",
            "在傳統市場外圍常見有些攤商違規擺攤，甚至佔用汽機車停車格以及在紅線擺攤，高雄金獅湖市場也有相同情況，甚至有住戶停放在車格中的車輛被移走、引發糾紛。警方表示，市場攤位設置以官方規劃區域為主，其他區域都是違法擺攤，若是移動民眾停放車輛也可能涉犯強制罪。上午前往現場，外圍攤商大多知道是違規擺攤，也說會儘量配合不造成住戶困擾。\n",
            "https://news.pts.org.tw/article/742651\n",
            "---\n",
            "受風災、溫差變化大影響 台東夏雪芒果難結果\n",
            "台東縣種植360公頃的改良種芒果，其中高價的夏雪芒果每年生產800多公噸。不過受到去（2024）年颱風吹壞枝葉，到今年開花結果期又遇到忽冷忽熱的天氣，造成不結果的情況，有的果園可能只剩1成產量。縣府表示，去年颱風災損已經救助一次，但會再請農民查報受災情況，依相關規定申請天然災害救助。\n",
            "https://news.pts.org.tw/article/742650\n",
            "---\n",
            "國研院建置溫鹽深儀施放系統 有效提升人員作業安全\n",
            "國研院海洋中心建置「溫鹽深儀施放系統」，創台灣研究船首例。這套系統可改善作業空間需求及確保操作人員安全，歷經3年多建置、測試與修正，在18日宣布這項項設備正式啟用。\n",
            "https://news.pts.org.tw/article/742649\n",
            "---\n",
            "保育類鉛色水鶇幼鳥疑遭盜獵 鳥友通報宜蘭縣府檢舉\n",
            "宜蘭縣礁溪鄉五峰旗攔沙壩被鳥友目擊，列入保育類3級的鉛色水鶇幼鳥疑似遭一名男子盜獵，親鳥叼蟲回來要餵食發現幼鳥不翼而飛，只能在附近盤旋、發出悲鳴。鳥友將拍到的相關畫面通報給縣政府檢舉，縣政府表示涉案男子行為恐違反《野生動物保育法》，將通知行為人到案說明。\n",
            "https://news.pts.org.tw/article/742648\n",
            "---\n",
            "加國新總理卡尼出訪英法 籲川普停止不尊重言論\n",
            "頂著美國總統川普持續攻擊加拿大的主權與經濟之壓力，加拿大總理卡尼抵達巴黎與法國總統馬克宏（Emmanuel Macron）會面，談到關稅及近期烏克蘭情勢等，尋求這個跟加拿大關係最長久的盟友之一的支持。卡尼以英文跟法語發表談話，並說光是法文這個語言，就定義了加拿大的認同與文化。法國總統馬克宏表示，「與烏克蘭的共同承諾，向來都是為了改善穩固持久的和平而做。」加拿大總理卡尼指出，「加拿大比以往任何時候都\n",
            "https://news.pts.org.tw/article/742647\n",
            "---\n",
            "成大研究：氣喘兒童愈常接觸綠地 鼻腔與腸道好菌數量愈多\n",
            "國立成功大學一項針對氣喘兒童的研究發現，接觸綠地較多者，鼻腔與腸道內的好菌數量及菌相多樣性皆較高；若住家附近空污愈嚴重，則壞菌數量愈高。研究團隊指出，這項發現將可為兒童氣喘治療與預防提供全新角度。\n",
            "https://news.pts.org.tw/article/742640\n",
            "---\n",
            "大學繁星推薦錄取率達64.12% 留1146缺額創近3年新低\n",
            "大學繁星推薦今（18）日公布錄取及篩選結果，第一類至第七類學群共錄取1萬4309名一般生，錄取率達64.12%，略低於前一學年度的錄取率64.19%。根據大學甄選入學委員會公布的資料，參與招生的65所大學中有17校招滿，留下1146個缺額創近3年新低；未招滿的各校中，則以文化大學缺額132名最多。\n",
            "https://news.pts.org.tw/article/742639\n",
            "---\n",
            "川普控拜登卸任前最後赦免令無效 因為使用自動簽名機簽署\n",
            "美國前總統拜登在卸任前，為2021年美國國會襲擊事件的眾議院調查委員等人簽署預防性赦免案，但現任總統川普17日發文聲稱該赦免案無效，因為拜登使用自動簽名機簽署。美聯社指出，目前美國法律並未規定總統能否使用自動簽名機，且十多年來的歷任總統，都曾使用該設備簽署法案。\n",
            "https://news.pts.org.tw/article/742638\n",
            "---\n",
            "以哈戰爭／以軍發動停火以來最大規模攻擊 加薩遭空襲已釀至少121死\n",
            "以色列國防軍今（18）日上午證實，已對加薩走廊實施「大規模攻擊」。據加薩民防部門表示，這波攻擊已造成至少121人死亡、150人受傷。這是自1月19日以哈第1階段停火協議生效以來，以軍發動的最大規模空襲。\n",
            "https://news.pts.org.tw/article/742637\n",
            "---\n"
          ]
        }
      ]
    },
    {
      "cell_type": "code",
      "source": [
        "from google.colab import auth\n",
        "from google.auth import default\n",
        "import gspread\n",
        "\n",
        "auth.authenticate_user() # 進行授權\n",
        "creds, _ = default() # 使用 default 方法獲取驗證信息\n",
        "gc = gspread.authorize(creds) # 使用 creds 變數授權 gspread 模組"
      ],
      "metadata": {
        "id": "5QnasPH19b1G"
      },
      "execution_count": null,
      "outputs": []
    },
    {
      "cell_type": "code",
      "source": [
        "# 開啟 Google 試算表\n",
        "url = 'https://docs.google.com/spreadsheets/d/157iBMp_IXG2wvojAMvuKWNPsF4mgFJ8zlcDoJ_EG64E/edit?gid=0#gid=0'\n",
        "workbook = gc.open_by_url(url)\n",
        "\n",
        "# 獲取工作簿中索引為 0 的工作表，並將其儲存在 sheet 變數中\n",
        "sheet = workbook.get_worksheet(0)\n",
        "\n",
        "# 新增一列資料\n",
        "sheet.append_row([  'title'  ,  'summary'  ,  'link'  ])"
      ],
      "metadata": {
        "colab": {
          "base_uri": "https://localhost:8080/"
        },
        "id": "BHcaLPc493Pr",
        "outputId": "8f9742f5-1c85-4481-f973-5c432bea506a"
      },
      "execution_count": null,
      "outputs": [
        {
          "output_type": "execute_result",
          "data": {
            "text/plain": [
              "{'spreadsheetId': '157iBMp_IXG2wvojAMvuKWNPsF4mgFJ8zlcDoJ_EG64E',\n",
              " 'updates': {'spreadsheetId': '157iBMp_IXG2wvojAMvuKWNPsF4mgFJ8zlcDoJ_EG64E',\n",
              "  'updatedRange': \"'工作表1'!A1:C1\",\n",
              "  'updatedRows': 1,\n",
              "  'updatedColumns': 3,\n",
              "  'updatedCells': 3}}"
            ]
          },
          "metadata": {},
          "execution_count": 6
        }
      ]
    },
    {
      "cell_type": "markdown",
      "source": [
        "## HTML"
      ],
      "metadata": {
        "id": "OunakeOkEx9l"
      }
    },
    {
      "cell_type": "code",
      "source": [
        "import requests\n",
        "from bs4 import BeautifulSoup\n",
        "\n",
        "url = 'https://imchihchao.pythonanywhere.com/demo_bs4'\n",
        "response = requests.get(url)\n",
        "\n",
        "soup = BeautifulSoup(response.text, 'lxml')\n",
        "\n",
        "soup.title"
      ],
      "metadata": {
        "colab": {
          "base_uri": "https://localhost:8080/"
        },
        "id": "bysaWBKvE0EV",
        "outputId": "cfa7a164-2fff-4999-af1a-29bf1b8b091c"
      },
      "execution_count": null,
      "outputs": [
        {
          "output_type": "execute_result",
          "data": {
            "text/plain": [
              "<title>Demo BS4</title>"
            ]
          },
          "metadata": {},
          "execution_count": 8
        }
      ]
    },
    {
      "cell_type": "code",
      "source": [
        "soup.h1.text"
      ],
      "metadata": {
        "colab": {
          "base_uri": "https://localhost:8080/",
          "height": 35
        },
        "id": "YVZ5YcuPLrre",
        "outputId": "ed18d5c6-4223-4fe6-dbd4-e4b4263e8265"
      },
      "execution_count": null,
      "outputs": [
        {
          "output_type": "execute_result",
          "data": {
            "text/plain": [
              "'HTML 示範頁面'"
            ],
            "application/vnd.google.colaboratory.intrinsic+json": {
              "type": "string"
            }
          },
          "metadata": {},
          "execution_count": 10
        }
      ]
    },
    {
      "cell_type": "code",
      "source": [
        "soup.p"
      ],
      "metadata": {
        "colab": {
          "base_uri": "https://localhost:8080/"
        },
        "id": "K4d4kTlkMBSD",
        "outputId": "890530a6-4f34-482f-ec7d-4e6a3948e62e"
      },
      "execution_count": null,
      "outputs": [
        {
          "output_type": "execute_result",
          "data": {
            "text/plain": [
              "<p id=\"p1\">段落一</p>"
            ]
          },
          "metadata": {},
          "execution_count": 11
        }
      ]
    },
    {
      "cell_type": "code",
      "source": [
        "soup.find('p')"
      ],
      "metadata": {
        "colab": {
          "base_uri": "https://localhost:8080/"
        },
        "id": "bJ4JQ334MJiK",
        "outputId": "d59fe16d-0a72-418d-8be8-f8eaf9484ed4"
      },
      "execution_count": null,
      "outputs": [
        {
          "output_type": "execute_result",
          "data": {
            "text/plain": [
              "<p id=\"p1\">段落一</p>"
            ]
          },
          "metadata": {},
          "execution_count": 12
        }
      ]
    },
    {
      "cell_type": "code",
      "source": [
        "soup.find('p', id='p2').text"
      ],
      "metadata": {
        "colab": {
          "base_uri": "https://localhost:8080/",
          "height": 35
        },
        "id": "YV7dz-VaMgDY",
        "outputId": "9b675c22-90fe-46b2-dac5-c6cf54d3b389"
      },
      "execution_count": null,
      "outputs": [
        {
          "output_type": "execute_result",
          "data": {
            "text/plain": [
              "'段落二'"
            ],
            "application/vnd.google.colaboratory.intrinsic+json": {
              "type": "string"
            }
          },
          "metadata": {},
          "execution_count": 14
        }
      ]
    },
    {
      "cell_type": "code",
      "source": [
        "soup.find('li', class_='even')"
      ],
      "metadata": {
        "colab": {
          "base_uri": "https://localhost:8080/"
        },
        "id": "3nB6HqPuM4_F",
        "outputId": "578cde11-c9e1-4660-876a-7b025206241e"
      },
      "execution_count": null,
      "outputs": [
        {
          "output_type": "execute_result",
          "data": {
            "text/plain": [
              "<li class=\"even\">CSS</li>"
            ]
          },
          "metadata": {},
          "execution_count": 15
        }
      ]
    },
    {
      "cell_type": "code",
      "source": [
        "# find_all()\n",
        "soup.find_all('li')[1]"
      ],
      "metadata": {
        "colab": {
          "base_uri": "https://localhost:8080/"
        },
        "id": "GTBgvZtnNTU6",
        "outputId": "e2856276-a023-489e-9115-93e474cb422c"
      },
      "execution_count": null,
      "outputs": [
        {
          "output_type": "execute_result",
          "data": {
            "text/plain": [
              "<li class=\"even\">CSS</li>"
            ]
          },
          "metadata": {},
          "execution_count": 26
        }
      ]
    },
    {
      "cell_type": "code",
      "source": [
        "# 取得屬性值\n",
        "soup.find('a').get('href')"
      ],
      "metadata": {
        "colab": {
          "base_uri": "https://localhost:8080/",
          "height": 35
        },
        "id": "nT5KIYxFNwbH",
        "outputId": "287984fc-03c3-4f94-e087-7607d67d413b"
      },
      "execution_count": null,
      "outputs": [
        {
          "output_type": "execute_result",
          "data": {
            "text/plain": [
              "'https://zh.wikipedia.org/zh-tw/HTML5'"
            ],
            "application/vnd.google.colaboratory.intrinsic+json": {
              "type": "string"
            }
          },
          "metadata": {},
          "execution_count": 28
        }
      ]
    },
    {
      "cell_type": "markdown",
      "source": [
        "## Gossiping"
      ],
      "metadata": {
        "id": "1A3TrDA14Spw"
      }
    },
    {
      "cell_type": "markdown",
      "source": [
        "cookies = {'over18': '1'}"
      ],
      "metadata": {
        "id": "zVn3QJSu4VL_"
      }
    },
    {
      "cell_type": "markdown",
      "source": [
        "## KKDay"
      ],
      "metadata": {
        "id": "b1r4HhXg1rc3"
      }
    },
    {
      "cell_type": "markdown",
      "source": [
        "headers = { 'user-agent': 'Mozilla/5.0 (Macintosh; Intel Mac OS X 10_15_7) AppleWebKit/537.36 (KHTML, like Gecko) Chrome/134.0.0.0 Safari/537.36' }"
      ],
      "metadata": {
        "id": "5wwMUswI1FhH"
      }
    },
    {
      "cell_type": "code",
      "source": [
        "import requests\n",
        "from bs4 import BeautifulSoup\n",
        "\n",
        "url = 'https://www.kkday.com/zh-tw/category/jp-tokyo/accommodation'\n",
        "headers = { 'user-agent': 'Mozilla/5.0 (Macintosh; Intel Mac OS X 10_15_7) AppleWebKit/537.36 (KHTML, like Gecko) Chrome/134.0.0.0 Safari/537.36' }\n",
        "response = requests.get(url, headers=headers)\n",
        "soup = BeautifulSoup(response.text, 'lxml')"
      ],
      "metadata": {
        "id": "yvgnXinQz1bw"
      },
      "execution_count": 5,
      "outputs": []
    },
    {
      "cell_type": "code",
      "source": [
        "soup.title"
      ],
      "metadata": {
        "colab": {
          "base_uri": "https://localhost:8080/"
        },
        "id": "h-637Uxr0FAw",
        "outputId": "01c6056d-a485-4509-fafb-700a6a55326c"
      },
      "execution_count": 8,
      "outputs": [
        {
          "output_type": "execute_result",
          "data": {
            "text/plain": [
              "<title>最熱門 東京 住宿 - 2025 更新 - KKday</title>"
            ]
          },
          "metadata": {},
          "execution_count": 8
        }
      ]
    }
  ]
}